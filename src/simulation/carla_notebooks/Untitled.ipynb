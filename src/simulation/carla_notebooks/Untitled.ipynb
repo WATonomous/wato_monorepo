{
 "cells": [
  {
   "cell_type": "code",
   "execution_count": 1,
   "id": "97cae374-ef51-4951-bd4d-41522249bc92",
   "metadata": {},
   "outputs": [
    {
     "name": "stdout",
     "output_type": "stream",
     "text": [
      "\u001b[33m  WARNING: The script lit is installed in '/home/docker/.local/bin' which is not on PATH.\n",
      "  Consider adding this directory to PATH or, if you prefer to suppress this warning, use --no-warn-script-location.\u001b[0m\u001b[33m\n",
      "\u001b[0m\u001b[33m  WARNING: The scripts cmake, cpack and ctest are installed in '/home/docker/.local/bin' which is not on PATH.\n",
      "  Consider adding this directory to PATH or, if you prefer to suppress this warning, use --no-warn-script-location.\u001b[0m\u001b[33m\n",
      "\u001b[0m\u001b[33m  WARNING: The script isympy is installed in '/home/docker/.local/bin' which is not on PATH.\n",
      "  Consider adding this directory to PATH or, if you prefer to suppress this warning, use --no-warn-script-location.\u001b[0m\u001b[33m\n",
      "\u001b[0m\u001b[33m  WARNING: The scripts convert-caffe2-to-onnx, convert-onnx-to-caffe2 and torchrun are installed in '/home/docker/.local/bin' which is not on PATH.\n",
      "  Consider adding this directory to PATH or, if you prefer to suppress this warning, use --no-warn-script-location.\u001b[0m\u001b[33m\n",
      "\u001b[0m\u001b[33mWARNING: You are using pip version 22.0.4; however, version 23.2.1 is available.\n",
      "You should consider upgrading via the '/usr/local/bin/python -m pip install --upgrade pip' command.\u001b[0m\u001b[33m\n",
      "\u001b[0m"
     ]
    }
   ],
   "source": [
    "!pip install -q gym numpy gymnasium stable-baselines3"
   ]
  },
  {
   "cell_type": "code",
   "execution_count": null,
   "id": "5d27a77d-e9ac-4cdd-870e-42cb9506cd36",
   "metadata": {},
   "outputs": [],
   "source": [
    "import carla\n",
    "import os\n",
    "import gymnasium as gym\n",
    "import numpy as np\n",
    "from gymnasium import spaces\n",
    "from time import sleep\n",
    "import queue"
   ]
  },
  {
   "cell_type": "code",
   "execution_count": null,
   "id": "e0234163-5c53-4f7b-bdba-823641959be8",
   "metadata": {},
   "outputs": [],
   "source": [
    "class CarlaEnv(gym.Env):\n",
    "\n",
    "    def __init__(self, params):\n",
    "        # Initial parameters\n",
    "        self.desired_speed = params['desired_speed']\n",
    "        self.number_of_vehicles = params['number_of_vehicles']\n",
    "        self.number_of_walkers = params['number_of_walkers']\n",
    "\n",
    "        # Destination\n",
    "        self.dests = None\n",
    "\n",
    "        # action space\n",
    "        # load in the the discrete action space for each type of output\n",
    "        self.discrete_act[params['discrete_acc'], params['discrete_steer'], params['discrete_brake'])\n",
    "        self.n_acc = len(self.discrete_act[0])\n",
    "        self.n_steer = len(self.discrete_act[1])\n",
    "        self.n_brake = len(self.discrete_act[2])\n",
    "        # Accel and steer are seperated as it makes no sense to use both at same time\n",
    "        self.action_space = spaces.Discrete((self.n_acc*self.n_steer) + (self.n_steer*self.n_brake))\n",
    "\n",
    "        # observation space\n",
    "        observation_space_dict = {\n",
    "            'camera': spaces.Box(\n",
    "        }\n",
    "        \n",
    "        "
   ]
  },
  {
   "cell_type": "code",
   "execution_count": 1,
   "id": "9c5fa45d-fe75-4352-8671-d9ec2cb98b1e",
   "metadata": {},
   "outputs": [],
   "source": [
    "import carla\n",
    "import os\n",
    "\n",
    "client_name = os.environ.get(\"CLIENT_NAME\", \"DOES NOT EXIST\")\n",
    "if client_name == \"DOES NOT EXIST\":\n",
    "    raise Exception(\"The environment variable for the container name of the carla server has not been set\")\n",
    "\n",
    "# Connect to the client and retrieve the world object\n",
    "client = carla.Client(client_name, 2000)\n",
    "world = client.get_world()"
   ]
  },
  {
   "cell_type": "code",
   "execution_count": 2,
   "id": "bdadd514-6524-4dfc-819d-50ee013ca8ba",
   "metadata": {},
   "outputs": [
    {
     "data": {
      "text/plain": [
       "374"
      ]
     },
     "execution_count": 2,
     "metadata": {},
     "output_type": "execute_result"
    }
   ],
   "source": [
    "# Set synchronous mode settings\n",
    "new_settings = world.get_settings()\n",
    "new_settings.synchronous_mode = True\n",
    "new_settings.fixed_delta_seconds = 0.05\n",
    "world.apply_settings(new_settings) "
   ]
  },
  {
   "cell_type": "code",
   "execution_count": 3,
   "id": "92c6a258-4d9c-4c6f-8105-09d586753843",
   "metadata": {},
   "outputs": [],
   "source": [
    "for actor in world.get_actors():\n",
    "    if actor.is_alive:\n",
    "      actor.destroy()"
   ]
  },
  {
   "cell_type": "code",
   "execution_count": 5,
   "id": "499da18f-31a3-4252-b11b-2617dac5de6a",
   "metadata": {},
   "outputs": [],
   "source": [
    "import random \n",
    "# Get the blueprint library and filter for the vehicle blueprints\n",
    "vehicle_blueprints = world.get_blueprint_library().filter('*vehicle*')\n",
    "# Get the map's spawn points\n",
    "spawn_points = world.get_map().get_spawn_points()\n",
    "\n",
    "ego_bp = random.choice(vehicle_blueprints)\n",
    "ego_bp.set_attribute(\"role_name\", \"ego\")\n",
    "\n",
    "ego_vehicle = world.try_spawn_actor(ego_bp, random.choice(spawn_points))"
   ]
  },
  {
   "cell_type": "code",
   "execution_count": 6,
   "id": "998a0beb-8954-423f-bd2a-29fee90f60c1",
   "metadata": {},
   "outputs": [],
   "source": [
    "# Create a transform to place the camera on top of the vehicle\n",
    "camera_init_trans = carla.Transform(carla.Location(z=1.5))\n",
    "\n",
    "# We create the camera through a blueprint that defines its properties\n",
    "camera_bp = world.get_blueprint_library().find('sensor.camera.rgb')\n",
    "\n",
    "# We spawn the camera and attach it to our ego vehicle\n",
    "camera = world.spawn_actor(camera_bp, camera_init_trans, attach_to=ego_vehicle)"
   ]
  },
  {
   "cell_type": "code",
   "execution_count": 7,
   "id": "a792385f-7444-4fb9-bfa9-8fc54021a2d5",
   "metadata": {},
   "outputs": [],
   "source": [
    "# Create a transform to place the camera on top of the vehicle\n",
    "lidar_init_trans = carla.Transform(carla.Location(z=2))\n",
    "\n",
    "# We create the camera through a blueprint that defines its properties\n",
    "camera_bp = world.get_blueprint_library().find('sensor.lidar.ray_cast')\n",
    "\n",
    "# We spawn the camera and attach it to our ego vehicle\n",
    "camera = world.spawn_actor(camera_bp, camera_init_trans, attach_to=ego_vehicle)"
   ]
  },
  {
   "cell_type": "code",
   "execution_count": 9,
   "id": "311ea7b8-30d9-4110-aaf4-c0de68802ec8",
   "metadata": {},
   "outputs": [],
   "source": [
    "ego_vehicle.set_autopilot(True)"
   ]
  },
  {
   "cell_type": "code",
   "execution_count": null,
   "id": "78500b95-fbd6-4f99-ab39-864d713bbcb3",
   "metadata": {},
   "outputs": [],
   "source": [
    "from timeit import default_timer\n",
    "init_time = default_timer()\n",
    "while(default_timer() - init_time < 30):\n",
    "    world.tick()"
   ]
  },
  {
   "cell_type": "code",
   "execution_count": 5,
   "id": "ccc0387b-41bd-4d16-9b79-3f88c5586565",
   "metadata": {},
   "outputs": [],
   "source": [
    "for i in range(0,50):\n",
    "    world.try_spawn_actor(random.choice(vehicle_blueprints), random.choice(spawn_points))"
   ]
  },
  {
   "cell_type": "code",
   "execution_count": 6,
   "id": "311173ba-a5e9-49d5-9ef5-e2eca2aef9ff",
   "metadata": {},
   "outputs": [],
   "source": [
    "for vehicle in world.get_actors().filter('*vehicle*'):\n",
    "    vehicle.set_autopilot(True)"
   ]
  },
  {
   "cell_type": "code",
   "execution_count": null,
   "id": "951a4b98-7768-485e-8fe9-47ce7d53641d",
   "metadata": {},
   "outputs": [],
   "source": []
  }
 ],
 "metadata": {
  "kernelspec": {
   "display_name": "Python 3 (ipykernel)",
   "language": "python",
   "name": "python3"
  },
  "language_info": {
   "codemirror_mode": {
    "name": "ipython",
    "version": 3
   },
   "file_extension": ".py",
   "mimetype": "text/x-python",
   "name": "python",
   "nbconvert_exporter": "python",
   "pygments_lexer": "ipython3",
   "version": "3.8.16"
  }
 },
 "nbformat": 4,
 "nbformat_minor": 5
}
