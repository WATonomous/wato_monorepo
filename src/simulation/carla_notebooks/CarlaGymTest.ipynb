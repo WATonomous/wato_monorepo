{
 "cells": [
  {
   "cell_type": "markdown",
   "id": "7f1ba336-3b5e-4369-a78f-107bb8936796",
   "metadata": {},
   "source": [
    "### Install prerequisite packages for gym environment and RL algorithms"
   ]
  },
  {
   "cell_type": "code",
   "execution_count": 1,
   "id": "2b7e1538-f375-4282-945e-84c0dac60b91",
   "metadata": {},
   "outputs": [
    {
     "name": "stdout",
     "output_type": "stream",
     "text": [
      "\u001b[33mWARNING: You are using pip version 22.0.4; however, version 23.2.1 is available.\n",
      "You should consider upgrading via the '/usr/local/bin/python -m pip install --upgrade pip' command.\u001b[0m\u001b[33m\n",
      "\u001b[0m"
     ]
    }
   ],
   "source": [
    "!pip install -q gym numpy gymnasium stable-baselines3"
   ]
  },
  {
   "cell_type": "code",
   "execution_count": 2,
   "id": "28b0f598-e1b3-4812-9529-435aab15cdf4",
   "metadata": {},
   "outputs": [],
   "source": [
    "import carla\n",
    "import os\n",
    "import gymnasium as gym\n",
    "import numpy as np\n",
    "from gymnasium import spaces\n",
    "from time import sleep\n",
    "import queue"
   ]
  },
  {
   "cell_type": "code",
   "execution_count": 6,
   "id": "4e6271ed-7ade-4650-81d8-57f35c435cf8",
   "metadata": {},
   "outputs": [],
   "source": [
    "class CarlaEnv(gym.Env):\n",
    "    \"\"\"\n",
    "    Custom Environment that follows gym interface.\n",
    "    This is a env to interface with CARLA simulator\n",
    "    \"\"\"\n",
    "\n",
    "    # Because of jupyter notebook, we cannot implement the GUI ('human' render mode)\n",
    "    metadata = {\"render_modes\": [\"console\"]}\n",
    "    \n",
    "    def camera_callback(self, image):\n",
    "        self.camera1_data = np.array(image.raw_data).reshape(600, 800, 4)[..., [2,1,0,3]]\n",
    "    \n",
    "    def lane_callback(self, event):\n",
    "        self.crossed_lane = True\n",
    "\n",
    "    def collision_callback(self, event):\n",
    "        self.collision_detected = True\n",
    "\n",
    "    def __init__(self, render_mode=\"console\"):\n",
    "        super(CarlaEnv, self).__init__()\n",
    "        self.render_mode = render_mode\n",
    "        # Create array to store camera 1 (rgb_view) data\n",
    "        self.camera1_data = np.empty((600, 800, 4))\n",
    "        \n",
    "        self.crossed_lane = False\n",
    "        self.collision_detected = False\n",
    "        \n",
    "        # Connect to CARLA\n",
    "        client_name = os.environ.get(\"CLIENT_NAME\", \"DOES NOT EXIST\")\n",
    "        if client_name == \"DOES NOT EXIST\":\n",
    "            raise Exception(\"The environment variable for the container name of the carla server has not been set\")\n",
    "\n",
    "        # Connect to the client and retrieve the world object\n",
    "        client = carla.Client(client_name, 2000)\n",
    "        self.world = client.get_world()\n",
    "        self.world.tick()\n",
    "\n",
    "        # Define action and observation space\n",
    "        # They must be gym.spaces objects\n",
    "        # In this case it is buckets for throttle, steering and brake\n",
    "        n_actions = 462\n",
    "        self.action_space = spaces.Discrete(n_actions)\n",
    "        # The observation will be the RGB camera view (for now)\n",
    "        self.observation_space = spaces.Box(\n",
    "            low=0, high=255, shape=(600,800,4), dtype=np.uint8\n",
    "        )\n",
    "        \n",
    "        # Get camera listener working\n",
    "        cameras = []\n",
    "        lane_sensors = []\n",
    "        collision_sensors = []\n",
    "        for actor in self.world.get_actors():\n",
    "            if(actor.type_id == 'sensor.camera.rgb'):\n",
    "                cameras.append(actor)\n",
    "            elif (actor.type_id == 'sensor.other.lane_invasion'):\n",
    "                lane_sensors.append(actor)\n",
    "            elif (actor.type_id == 'sensor.other.collision'):\n",
    "                  collision_sensors.append(actor)\n",
    "        self.collision_sensor = collision_sensors[0]\n",
    "        self.lane_sensor = lane_sensors[0]\n",
    "        self.camera = cameras[0]\n",
    "        vehicles = []\n",
    "        for actor in self.world.get_actors():\n",
    "            if(actor.type_id == 'vehicle.tesla.model3'):\n",
    "                vehicles.append(actor)\n",
    "        for vehicle in vehicles:\n",
    "            if(vehicle.attributes[\"role_name\"] == \"ego_vehicle\"):\n",
    "                self.ego_vehicle = vehicle\n",
    "        self.reset()\n",
    "\n",
    "    def reset(self, seed=None, options=None):\n",
    "        \"\"\"\n",
    "        Important: the observation must be a numpy array\n",
    "        :return: (np.array)\n",
    "        \"\"\"\n",
    "        super().reset(seed=seed, options=options)\n",
    "        \n",
    "        self.collision_sensor.stop()\n",
    "        self.lane_sensor.stop()\n",
    "        self.camera.stop()\n",
    "\n",
    "        # move vehicle to correct location\n",
    "        initLocation = carla.Location(x=-51.404804, y=-76.343437, z=0.053576)\n",
    "        initRotation = carla.Rotation(pitch=0.0, yaw=90.0, roll=0.0)\n",
    "        self.ego_vehicle.set_transform(carla.Transform(initLocation, initRotation))\n",
    "        \n",
    "        vehicle_control_cmd = carla.VehicleControl(0.0, 0.0, 1.0)\n",
    "        self.ego_vehicle.apply_control(vehicle_control_cmd)\n",
    "        \n",
    "        self.crossed_lane = False\n",
    "        self.collision_detected = False\n",
    "\n",
    "        self.collision_sensor.listen(self.collision_callback)\n",
    "        self.lane_sensor.listen(self.lane_callback)\n",
    "        self.camera.listen(self.camera_callback)\n",
    "\n",
    "        self.world.wait_for_tick()\n",
    "        \n",
    "        return self.camera1_data.astype(np.uint8), {}  # empty info dict\n",
    "\n",
    "    def step(self, action):\n",
    "        # steering with throttle 21*11=231 combos\n",
    "        # steering with brake 21*11=231 combos\n",
    "        # in total 462 combos\n",
    "        throttle = 0\n",
    "        steer = 0\n",
    "        brake = 0\n",
    "        if(action < 231): # steering with throttle\n",
    "            throttle = int(action / 21) / 10.0\n",
    "            steer = (action % 21) / 10.0 - 1.0\n",
    "        elif (action < 462): # steering with brake\n",
    "            action -= 231\n",
    "            brake = int(action / 21) / 10.0\n",
    "            steer = (action % 21) / 10.0 - 1.0\n",
    "        vehicle_control_cmd = carla.VehicleControl(throttle, steer, brake)\n",
    "        self.ego_vehicle.apply_control(vehicle_control_cmd)\n",
    "        \n",
    "        \n",
    "        # Let the simulator respond\n",
    "        self.world.wait_for_tick()\n",
    "\n",
    "        # Optionally we can pass additional info, we are not using that for now\n",
    "        info = {}\n",
    "        truncated = False\n",
    "        reward = 2\n",
    "        if(self.crossed_lane):\n",
    "            reward = 0\n",
    "        terminated = self.collision_detected\n",
    "        if(terminated):\n",
    "            self.camera.stop()\n",
    "            self.lane_sensor.stop()\n",
    "            reward = 0\n",
    "        return (\n",
    "            self.camera1_data.astype(np.uint8),\n",
    "            reward,\n",
    "            terminated,\n",
    "            truncated,\n",
    "            info,\n",
    "        )\n",
    "\n",
    "    def render(self):\n",
    "        pass\n",
    "\n",
    "    def close(self):\n",
    "        pass"
   ]
  },
  {
   "cell_type": "code",
   "execution_count": 7,
   "id": "2a335669-3433-447e-a83f-58ee29ca2102",
   "metadata": {},
   "outputs": [
    {
     "name": "stderr",
     "output_type": "stream",
     "text": [
      "WARNING: attempting to unsubscribe from stream but sensor wasn't listening: Actor 148 (sensor.other.collision) \n",
      "WARNING: attempting to unsubscribe from stream but sensor wasn't listening: Actor 143 (sensor.camera.rgb) \n"
     ]
    },
    {
     "data": {
      "text/plain": [
       "(array([[[0, 0, 0, 0],\n",
       "         [0, 0, 0, 0],\n",
       "         [0, 0, 0, 0],\n",
       "         ...,\n",
       "         [0, 0, 0, 0],\n",
       "         [0, 0, 0, 0],\n",
       "         [0, 0, 0, 0]],\n",
       " \n",
       "        [[0, 0, 0, 0],\n",
       "         [0, 0, 0, 0],\n",
       "         [0, 0, 0, 0],\n",
       "         ...,\n",
       "         [0, 0, 0, 0],\n",
       "         [0, 0, 0, 0],\n",
       "         [0, 0, 0, 0]],\n",
       " \n",
       "        [[0, 0, 0, 0],\n",
       "         [0, 0, 0, 0],\n",
       "         [0, 0, 0, 0],\n",
       "         ...,\n",
       "         [0, 0, 0, 0],\n",
       "         [0, 0, 0, 0],\n",
       "         [0, 0, 0, 0]],\n",
       " \n",
       "        ...,\n",
       " \n",
       "        [[0, 0, 0, 0],\n",
       "         [0, 0, 0, 0],\n",
       "         [0, 0, 0, 0],\n",
       "         ...,\n",
       "         [0, 0, 0, 0],\n",
       "         [0, 0, 0, 0],\n",
       "         [0, 0, 0, 0]],\n",
       " \n",
       "        [[0, 0, 0, 0],\n",
       "         [0, 0, 0, 0],\n",
       "         [0, 0, 0, 0],\n",
       "         ...,\n",
       "         [0, 0, 0, 0],\n",
       "         [0, 0, 0, 0],\n",
       "         [0, 0, 0, 0]],\n",
       " \n",
       "        [[0, 0, 0, 0],\n",
       "         [0, 0, 0, 0],\n",
       "         [0, 0, 0, 0],\n",
       "         ...,\n",
       "         [0, 0, 0, 0],\n",
       "         [0, 0, 0, 0],\n",
       "         [0, 0, 0, 0]]], dtype=uint8),\n",
       " {})"
      ]
     },
     "execution_count": 7,
     "metadata": {},
     "output_type": "execute_result"
    }
   ],
   "source": [
    "env = CarlaEnv()\n",
    "env.reset()"
   ]
  },
  {
   "cell_type": "code",
   "execution_count": 9,
   "id": "13e5e47f-80d6-4d4f-b8d1-46e08e817722",
   "metadata": {},
   "outputs": [],
   "source": [
    "from stable_baselines3.common.env_checker import check_env\n",
    "from stable_baselines3 import DQN"
   ]
  },
  {
   "cell_type": "code",
   "execution_count": 11,
   "id": "9426df40-a1f7-4099-ac09-40c966fe5b5d",
   "metadata": {},
   "outputs": [
    {
     "name": "stderr",
     "output_type": "stream",
     "text": [
      "WARNING: attempting to unsubscribe from stream but sensor wasn't listening: Actor 148 (sensor.other.collision) \n",
      "WARNING: attempting to unsubscribe from stream but sensor wasn't listening: Actor 143 (sensor.camera.rgb) \n",
      "/tmp/ipykernel_31/3210272497.py:99: RuntimeWarning: invalid value encountered in cast\n",
      "  return self.camera1_data.astype(np.uint8), {}  # empty info dict\n"
     ]
    },
    {
     "data": {
      "text/plain": [
       "(array([[[186, 203, 223, 255],\n",
       "         [186, 203, 223, 255],\n",
       "         [186, 204, 223, 255],\n",
       "         ...,\n",
       "         [ 88,  86,  86, 255],\n",
       "         [ 88,  86,  88, 255],\n",
       "         [ 88,  86,  86, 255]],\n",
       " \n",
       "        [[186, 203, 223, 255],\n",
       "         [186, 204, 223, 255],\n",
       "         [186, 204, 223, 255],\n",
       "         ...,\n",
       "         [131, 129, 129, 255],\n",
       "         [131, 129, 129, 255],\n",
       "         [131, 129, 129, 255]],\n",
       " \n",
       "        [[186, 204, 223, 255],\n",
       "         [186, 203, 223, 255],\n",
       "         [187, 204, 223, 255],\n",
       "         ...,\n",
       "         [140, 139, 138, 255],\n",
       "         [142, 139, 139, 255],\n",
       "         [142, 140, 140, 255]],\n",
       " \n",
       "        ...,\n",
       " \n",
       "        [[224, 220, 219, 255],\n",
       "         [224, 221, 221, 255],\n",
       "         [222, 218, 215, 255],\n",
       "         ...,\n",
       "         [222, 220, 215, 255],\n",
       "         [222, 219, 217, 255],\n",
       "         [221, 218, 215, 255]],\n",
       " \n",
       "        [[223, 220, 218, 255],\n",
       "         [224, 221, 220, 255],\n",
       "         [224, 220, 219, 255],\n",
       "         ...,\n",
       "         [220, 216, 212, 255],\n",
       "         [220, 217, 214, 255],\n",
       "         [221, 217, 214, 255]],\n",
       " \n",
       "        [[220, 216, 211, 255],\n",
       "         [221, 217, 214, 255],\n",
       "         [221, 217, 214, 255],\n",
       "         ...,\n",
       "         [216, 211, 209, 255],\n",
       "         [216, 211, 209, 255],\n",
       "         [217, 212, 208, 255]]], dtype=uint8),\n",
       " {})"
      ]
     },
     "execution_count": 11,
     "metadata": {},
     "output_type": "execute_result"
    }
   ],
   "source": [
    "env = CarlaEnv()\n",
    "# If the environment don't follow the interface, an error will be thrown\n",
    "check_env(env, warn=True)\n",
    "env.reset()"
   ]
  },
  {
   "cell_type": "code",
   "execution_count": 12,
   "id": "4bfe65a9-adfc-4e7d-a2a6-8c87732c996b",
   "metadata": {},
   "outputs": [
    {
     "name": "stdout",
     "output_type": "stream",
     "text": [
      "Using cpu device\n",
      "Wrapping the env with a `Monitor` wrapper\n",
      "Wrapping the env in a DummyVecEnv.\n",
      "Wrapping the env in a VecTransposeImage.\n"
     ]
    }
   ],
   "source": [
    "model = DQN(\"MlpPolicy\", env, verbose=1, buffer_size=1000)"
   ]
  },
  {
   "cell_type": "code",
   "execution_count": null,
   "id": "e3b3a668-b8ca-4e12-b414-f5385fea6e43",
   "metadata": {},
   "outputs": [],
   "source": [
    "model.learn(1000)"
   ]
  },
  {
   "cell_type": "code",
   "execution_count": null,
   "id": "5034820e-83fd-4fa1-8dd7-315fdadcb737",
   "metadata": {},
   "outputs": [],
   "source": []
  }
 ],
 "metadata": {
  "kernelspec": {
   "display_name": "Python 3 (ipykernel)",
   "language": "python",
   "name": "python3"
  },
  "language_info": {
   "codemirror_mode": {
    "name": "ipython",
    "version": 3
   },
   "file_extension": ".py",
   "mimetype": "text/x-python",
   "name": "python",
   "nbconvert_exporter": "python",
   "pygments_lexer": "ipython3",
   "version": "3.8.16"
  }
 },
 "nbformat": 4,
 "nbformat_minor": 5
}
