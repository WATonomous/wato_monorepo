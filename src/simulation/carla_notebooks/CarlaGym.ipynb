{
 "cells": [
  {
   "cell_type": "code",
   "execution_count": 1,
   "id": "1afdefb3",
   "metadata": {},
   "outputs": [
    {
     "name": "stdout",
     "output_type": "stream",
     "text": [
      "\u001b[33m  WARNING: The scripts convert-caffe2-to-onnx, convert-onnx-to-caffe2 and torchrun are installed in '/home/docker/.local/bin' which is not on PATH.\n",
      "  Consider adding this directory to PATH or, if you prefer to suppress this warning, use --no-warn-script-location.\u001b[0m\u001b[33m\n",
      "\u001b[0m\u001b[33mWARNING: You are using pip version 22.0.4; however, version 23.2.1 is available.\n",
      "You should consider upgrading via the '/usr/local/bin/python -m pip install --upgrade pip' command.\u001b[0m\u001b[33m\n",
      "\u001b[0m"
     ]
    }
   ],
   "source": [
    "!pip install -q gym numpy gymnasium stable-baselines3"
   ]
  },
  {
   "cell_type": "code",
   "execution_count": 1,
   "id": "8a644cab",
   "metadata": {},
   "outputs": [],
   "source": [
    "import carla\n",
    "import os\n",
    "import gymnasium as gym\n",
    "import numpy as np\n",
    "from gymnasium import spaces\n",
    "from time import sleep"
   ]
  },
  {
   "cell_type": "code",
   "execution_count": 2,
   "id": "4e874414",
   "metadata": {},
   "outputs": [],
   "source": [
    "class CarlaEnv(gym.Env):\n",
    "    \"\"\"\n",
    "    Custom Environment that follows gym interface.\n",
    "    This is a env to interface with CARLA simulator\n",
    "    \"\"\"\n",
    "\n",
    "    # Because of jupyter notebook, we cannot implement the GUI ('human' render mode)\n",
    "    metadata = {\"render_modes\": [\"console\"]}\n",
    "    \n",
    "    def camera_callback(self, image):\n",
    "        self.camera1_data = np.array(image.raw_data).reshape(600, 800, 4)[..., [2,1,0,3]].copy()\n",
    "    \n",
    "    def lane_callback(self, event):\n",
    "        self.crossed_lane = True\n",
    "\n",
    "    def collision_callback(self, event):\n",
    "        self.collision_detected = True\n",
    "\n",
    "    def __init__(self, render_mode=\"console\"):\n",
    "        super(CarlaEnv, self).__init__()\n",
    "        self.render_mode = render_mode\n",
    "        # Create array to store camera 1 (rgb_view) data\n",
    "        self.camera1_data = np.empty((600, 800, 4))\n",
    "        \n",
    "        self.crossed_lane = False\n",
    "        self.collision_detected = False\n",
    "        \n",
    "        # Connect to CARLA\n",
    "        client_name = os.environ.get(\"CLIENT_NAME\", \"DOES NOT EXIST\")\n",
    "        if client_name == \"DOES NOT EXIST\":\n",
    "            raise Exception(\"The environment variable for the container name of the carla server has not been set\")\n",
    "\n",
    "        # Connect to the client and retrieve the world object\n",
    "        client = carla.Client(client_name, 2000)\n",
    "        world = client.get_world()\n",
    "        world.tick()\n",
    "\n",
    "        # Define action and observation space\n",
    "        # They must be gym.spaces objects\n",
    "        # In this case it is buckets for throttle, steering and brake\n",
    "        n_actions = 230 + 11 - 1\n",
    "        self.action_space = spaces.Discrete(n_actions)\n",
    "        # The observation will be the RGB camera view (for now)\n",
    "        self.observation_space = spaces.Box(\n",
    "            low=0, high=255, shape=(600,800,4), dtype=np.uint8\n",
    "        )\n",
    "        \n",
    "        # Get camera listener working\n",
    "        cameras = []\n",
    "        lane_sensors = []\n",
    "        collision_sensors = []\n",
    "        for actor in world.get_actors():\n",
    "            if(actor.type_id == 'sensor.camera.rgb'):\n",
    "                cameras.append(actor)\n",
    "            elif (actor.type_id == 'sensor.other.lane_invasion'):\n",
    "                lane_sensors.append(actor)\n",
    "            elif (actor.type_id == 'sensor.other.collision'):\n",
    "                  collision_sensors.append(actor)\n",
    "        self.collision_sensor = collision_sensors[0]\n",
    "        self.collision_sensor.listen(self.collision_callback)\n",
    "        self.lane_sensor = lane_sensors[0]\n",
    "        self.lane_sensor.listen(self.lane_callback)\n",
    "        self.camera = cameras[0]\n",
    "        self.camera.listen(self.camera_callback)\n",
    "        vehicles = []\n",
    "        for actor in world.get_actors():\n",
    "            if(actor.type_id == 'vehicle.tesla.model3'):\n",
    "                vehicles.append(actor)\n",
    "        for vehicle in vehicles:\n",
    "            if(vehicle.attributes[\"role_name\"] == \"ego_vehicle\"):\n",
    "                self.ego_vehicle = vehicle\n",
    "        self.reset()\n",
    "\n",
    "    def reset(self, seed=None, options=None):\n",
    "        \"\"\"\n",
    "        Important: the observation must be a numpy array\n",
    "        :return: (np.array)\n",
    "        \"\"\"\n",
    "        super().reset(seed=seed, options=options)\n",
    "        # move vehicle to correct location\n",
    "        initLocation = carla.Location(x=-51.404804, y=-76.343437, z=0.053576)\n",
    "        initRotation = carla.Rotation(pitch=0.0, yaw=90.0, roll=0.0)\n",
    "        self.ego_vehicle.set_transform(carla.Transform(initLocation, initRotation))\n",
    "        \n",
    "        vehicle_control_cmd = carla.VehicleControl(0.0, 0.0, 1.0)\n",
    "        self.ego_vehicle.apply_control(vehicle_control_cmd)\n",
    "        \n",
    "        self.crossed_lane = False\n",
    "        self.collision_detected = False\n",
    "\n",
    "        self.collision_sensor.listen(self.collision_callback)\n",
    "        self.lane_sensor.listen(self.lane_callback)\n",
    "        self.camera.listen(self.camera_callback)\n",
    "        \n",
    "        return self.camera1_data.astype(np.uint8), {}  # empty info dict\n",
    "\n",
    "    def step(self, action):\n",
    "        throttle = 0.0\n",
    "        steer = 0.0\n",
    "        brake = 0.0\n",
    "        if(action <= 230 - 1):\n",
    "            throttle = ((action - 11 - 1) // 21) / 10.0\n",
    "            steer = (((action - 11 - 1) // 11) / 10.0) - 1.0\n",
    "        else:\n",
    "            brake = (action - 230 - 1 - 1) / 10.0\n",
    "        vehicle_control_cmd = carla.VehicleControl(throttle, steer, brake)\n",
    "        self.ego_vehicle.apply_control(vehicle_control_cmd)\n",
    "        \n",
    "        \n",
    "        # Let the simulator respond\n",
    "        sleep(0.5)\n",
    "\n",
    "        # Optionally we can pass additional info, we are not using that for now\n",
    "        info = {}\n",
    "        truncated = False\n",
    "        reward = 2\n",
    "        if(self.crossed_lane):\n",
    "            reward = 0\n",
    "        terminated = self.collision_detected\n",
    "        if(terminated):\n",
    "            self.camera.stop()\n",
    "            self.lane_sensor.stop()\n",
    "            reward = 0\n",
    "        return (\n",
    "            self.camera1_data.astype(np.uint8),\n",
    "            reward,\n",
    "            terminated,\n",
    "            truncated,\n",
    "            info,\n",
    "        )\n",
    "\n",
    "    def render(self):\n",
    "        # agent is represented as a cross, rest as a dot\n",
    "        if self.render_mode == \"console\":\n",
    "            print(self.crossed_lane)\n",
    "\n",
    "    def close(self):\n",
    "        pass"
   ]
  },
  {
   "cell_type": "code",
   "execution_count": 3,
   "id": "c07fabe5",
   "metadata": {},
   "outputs": [],
   "source": [
    "from stable_baselines3.common.env_checker import check_env"
   ]
  },
  {
   "cell_type": "code",
   "execution_count": null,
   "id": "ac77e655",
   "metadata": {},
   "outputs": [],
   "source": [
    "env = CarlaEnv()\n",
    "# If the environment don't follow the interface, an error will be thrown\n",
    "# check_env(env, warn=True)"
   ]
  },
  {
   "cell_type": "code",
   "execution_count": 6,
   "id": "a7b151b7",
   "metadata": {},
   "outputs": [],
   "source": [
    "from stable_baselines3 import DQN"
   ]
  },
  {
   "cell_type": "code",
   "execution_count": 18,
   "id": "cf89bd88",
   "metadata": {},
   "outputs": [
    {
     "name": "stdout",
     "output_type": "stream",
     "text": [
      "\n"
     ]
    }
   ],
   "source": [
    "env.reset()\n",
    "print(\"\")"
   ]
  },
  {
   "cell_type": "code",
   "execution_count": 9,
   "id": "3decd01d",
   "metadata": {},
   "outputs": [
    {
     "name": "stdout",
     "output_type": "stream",
     "text": [
      "Using cpu device\n",
      "Wrapping the env with a `Monitor` wrapper\n",
      "Wrapping the env in a DummyVecEnv.\n",
      "Wrapping the env in a VecTransposeImage.\n"
     ]
    }
   ],
   "source": [
    "model = DQN(\"MlpPolicy\", env, verbose=1, buffer_size=1000)"
   ]
  },
  {
   "cell_type": "code",
   "execution_count": 10,
   "id": "7200b0d5",
   "metadata": {},
   "outputs": [
    {
     "name": "stderr",
     "output_type": "stream",
     "text": [
      "WARNING: attempting to unsubscribe from stream but sensor wasn't listening: Actor 143 (sensor.camera.rgb) \n",
      "WARNING: attempting to unsubscribe from stream but sensor wasn't listening: Actor 143 (sensor.camera.rgb) \n"
     ]
    },
    {
     "name": "stdout",
     "output_type": "stream",
     "text": [
      "----------------------------------\n",
      "| rollout/            |          |\n",
      "|    ep_len_mean      | 8.5      |\n",
      "|    ep_rew_mean      | 15       |\n",
      "|    exploration_rate | 0.677    |\n",
      "| time/               |          |\n",
      "|    episodes         | 4        |\n",
      "|    fps              | 1        |\n",
      "|    time_elapsed     | 17       |\n",
      "|    total_timesteps  | 34       |\n",
      "----------------------------------\n"
     ]
    },
    {
     "name": "stderr",
     "output_type": "stream",
     "text": [
      "WARNING: attempting to unsubscribe from stream but sensor wasn't listening: Actor 143 (sensor.camera.rgb) \n",
      "WARNING: attempting to unsubscribe from stream but sensor wasn't listening: Actor 143 (sensor.camera.rgb) \n",
      "WARNING: attempting to unsubscribe from stream but sensor wasn't listening: Actor 143 (sensor.camera.rgb) \n",
      "WARNING: attempting to unsubscribe from stream but sensor wasn't listening: Actor 143 (sensor.camera.rgb) \n"
     ]
    },
    {
     "name": "stdout",
     "output_type": "stream",
     "text": [
      "----------------------------------\n",
      "| rollout/            |          |\n",
      "|    ep_len_mean      | 4.75     |\n",
      "|    ep_rew_mean      | 7.5      |\n",
      "|    exploration_rate | 0.639    |\n",
      "| time/               |          |\n",
      "|    episodes         | 8        |\n",
      "|    fps              | 1        |\n",
      "|    time_elapsed     | 19       |\n",
      "|    total_timesteps  | 38       |\n",
      "----------------------------------\n"
     ]
    },
    {
     "name": "stderr",
     "output_type": "stream",
     "text": [
      "WARNING: attempting to unsubscribe from stream but sensor wasn't listening: Actor 143 (sensor.camera.rgb) \n",
      "WARNING: attempting to unsubscribe from stream but sensor wasn't listening: Actor 143 (sensor.camera.rgb) \n",
      "WARNING: attempting to unsubscribe from stream but sensor wasn't listening: Actor 143 (sensor.camera.rgb) \n",
      "WARNING: attempting to unsubscribe from stream but sensor wasn't listening: Actor 143 (sensor.camera.rgb) \n"
     ]
    },
    {
     "name": "stdout",
     "output_type": "stream",
     "text": [
      "----------------------------------\n",
      "| rollout/            |          |\n",
      "|    ep_len_mean      | 3.5      |\n",
      "|    ep_rew_mean      | 5        |\n",
      "|    exploration_rate | 0.601    |\n",
      "| time/               |          |\n",
      "|    episodes         | 12       |\n",
      "|    fps              | 1        |\n",
      "|    time_elapsed     | 21       |\n",
      "|    total_timesteps  | 42       |\n",
      "----------------------------------\n"
     ]
    },
    {
     "name": "stderr",
     "output_type": "stream",
     "text": [
      "WARNING: attempting to unsubscribe from stream but sensor wasn't listening: Actor 143 (sensor.camera.rgb) \n",
      "WARNING: attempting to unsubscribe from stream but sensor wasn't listening: Actor 143 (sensor.camera.rgb) \n",
      "WARNING: attempting to unsubscribe from stream but sensor wasn't listening: Actor 143 (sensor.camera.rgb) \n",
      "WARNING: attempting to unsubscribe from stream but sensor wasn't listening: Actor 143 (sensor.camera.rgb) \n"
     ]
    },
    {
     "name": "stdout",
     "output_type": "stream",
     "text": [
      "----------------------------------\n",
      "| rollout/            |          |\n",
      "|    ep_len_mean      | 2.88     |\n",
      "|    ep_rew_mean      | 3.75     |\n",
      "|    exploration_rate | 0.563    |\n",
      "| time/               |          |\n",
      "|    episodes         | 16       |\n",
      "|    fps              | 1        |\n",
      "|    time_elapsed     | 23       |\n",
      "|    total_timesteps  | 46       |\n",
      "----------------------------------\n"
     ]
    },
    {
     "name": "stderr",
     "output_type": "stream",
     "text": [
      "WARNING: attempting to unsubscribe from stream but sensor wasn't listening: Actor 143 (sensor.camera.rgb) \n",
      "WARNING: attempting to unsubscribe from stream but sensor wasn't listening: Actor 143 (sensor.camera.rgb) \n",
      "WARNING: attempting to unsubscribe from stream but sensor wasn't listening: Actor 143 (sensor.camera.rgb) \n",
      "WARNING: attempting to unsubscribe from stream but sensor wasn't listening: Actor 143 (sensor.camera.rgb) \n"
     ]
    },
    {
     "name": "stdout",
     "output_type": "stream",
     "text": [
      "----------------------------------\n",
      "| rollout/            |          |\n",
      "|    ep_len_mean      | 2.5      |\n",
      "|    ep_rew_mean      | 3        |\n",
      "|    exploration_rate | 0.525    |\n",
      "| time/               |          |\n",
      "|    episodes         | 20       |\n",
      "|    fps              | 1        |\n",
      "|    time_elapsed     | 25       |\n",
      "|    total_timesteps  | 50       |\n",
      "----------------------------------\n"
     ]
    },
    {
     "name": "stderr",
     "output_type": "stream",
     "text": [
      "WARNING: attempting to unsubscribe from stream but sensor wasn't listening: Actor 143 (sensor.camera.rgb) \n",
      "WARNING: attempting to unsubscribe from stream but sensor wasn't listening: Actor 143 (sensor.camera.rgb) \n",
      "WARNING: attempting to unsubscribe from stream but sensor wasn't listening: Actor 143 (sensor.camera.rgb) \n",
      "WARNING: attempting to unsubscribe from stream but sensor wasn't listening: Actor 143 (sensor.camera.rgb) \n"
     ]
    },
    {
     "name": "stdout",
     "output_type": "stream",
     "text": [
      "----------------------------------\n",
      "| rollout/            |          |\n",
      "|    ep_len_mean      | 2.25     |\n",
      "|    ep_rew_mean      | 2.5      |\n",
      "|    exploration_rate | 0.487    |\n",
      "| time/               |          |\n",
      "|    episodes         | 24       |\n",
      "|    fps              | 1        |\n",
      "|    time_elapsed     | 27       |\n",
      "|    total_timesteps  | 54       |\n",
      "----------------------------------\n"
     ]
    },
    {
     "name": "stderr",
     "output_type": "stream",
     "text": [
      "WARNING: attempting to unsubscribe from stream but sensor wasn't listening: Actor 143 (sensor.camera.rgb) \n",
      "WARNING: attempting to unsubscribe from stream but sensor wasn't listening: Actor 143 (sensor.camera.rgb) \n",
      "WARNING: attempting to unsubscribe from stream but sensor wasn't listening: Actor 143 (sensor.camera.rgb) \n",
      "WARNING: attempting to unsubscribe from stream but sensor wasn't listening: Actor 143 (sensor.camera.rgb) \n"
     ]
    },
    {
     "name": "stdout",
     "output_type": "stream",
     "text": [
      "----------------------------------\n",
      "| rollout/            |          |\n",
      "|    ep_len_mean      | 2.07     |\n",
      "|    ep_rew_mean      | 2.14     |\n",
      "|    exploration_rate | 0.449    |\n",
      "| time/               |          |\n",
      "|    episodes         | 28       |\n",
      "|    fps              | 1        |\n",
      "|    time_elapsed     | 29       |\n",
      "|    total_timesteps  | 58       |\n",
      "----------------------------------\n"
     ]
    },
    {
     "name": "stderr",
     "output_type": "stream",
     "text": [
      "WARNING: attempting to unsubscribe from stream but sensor wasn't listening: Actor 143 (sensor.camera.rgb) \n",
      "WARNING: attempting to unsubscribe from stream but sensor wasn't listening: Actor 143 (sensor.camera.rgb) \n",
      "WARNING: attempting to unsubscribe from stream but sensor wasn't listening: Actor 143 (sensor.camera.rgb) \n",
      "WARNING: attempting to unsubscribe from stream but sensor wasn't listening: Actor 143 (sensor.camera.rgb) \n"
     ]
    },
    {
     "name": "stdout",
     "output_type": "stream",
     "text": [
      "----------------------------------\n",
      "| rollout/            |          |\n",
      "|    ep_len_mean      | 1.94     |\n",
      "|    ep_rew_mean      | 1.88     |\n",
      "|    exploration_rate | 0.411    |\n",
      "| time/               |          |\n",
      "|    episodes         | 32       |\n",
      "|    fps              | 1        |\n",
      "|    time_elapsed     | 31       |\n",
      "|    total_timesteps  | 62       |\n",
      "----------------------------------\n"
     ]
    },
    {
     "name": "stderr",
     "output_type": "stream",
     "text": [
      "WARNING: attempting to unsubscribe from stream but sensor wasn't listening: Actor 143 (sensor.camera.rgb) \n",
      "WARNING: attempting to unsubscribe from stream but sensor wasn't listening: Actor 143 (sensor.camera.rgb) \n",
      "WARNING: attempting to unsubscribe from stream but sensor wasn't listening: Actor 143 (sensor.camera.rgb) \n",
      "WARNING: attempting to unsubscribe from stream but sensor wasn't listening: Actor 143 (sensor.camera.rgb) \n"
     ]
    },
    {
     "name": "stdout",
     "output_type": "stream",
     "text": [
      "----------------------------------\n",
      "| rollout/            |          |\n",
      "|    ep_len_mean      | 1.83     |\n",
      "|    ep_rew_mean      | 1.67     |\n",
      "|    exploration_rate | 0.373    |\n",
      "| time/               |          |\n",
      "|    episodes         | 36       |\n",
      "|    fps              | 1        |\n",
      "|    time_elapsed     | 33       |\n",
      "|    total_timesteps  | 66       |\n",
      "----------------------------------\n"
     ]
    },
    {
     "name": "stderr",
     "output_type": "stream",
     "text": [
      "WARNING: attempting to unsubscribe from stream but sensor wasn't listening: Actor 143 (sensor.camera.rgb) \n",
      "WARNING: attempting to unsubscribe from stream but sensor wasn't listening: Actor 143 (sensor.camera.rgb) \n",
      "WARNING: attempting to unsubscribe from stream but sensor wasn't listening: Actor 143 (sensor.camera.rgb) \n",
      "WARNING: attempting to unsubscribe from stream but sensor wasn't listening: Actor 143 (sensor.camera.rgb) \n"
     ]
    },
    {
     "name": "stdout",
     "output_type": "stream",
     "text": [
      "----------------------------------\n",
      "| rollout/            |          |\n",
      "|    ep_len_mean      | 1.75     |\n",
      "|    ep_rew_mean      | 1.5      |\n",
      "|    exploration_rate | 0.335    |\n",
      "| time/               |          |\n",
      "|    episodes         | 40       |\n",
      "|    fps              | 1        |\n",
      "|    time_elapsed     | 35       |\n",
      "|    total_timesteps  | 70       |\n",
      "----------------------------------\n"
     ]
    },
    {
     "name": "stderr",
     "output_type": "stream",
     "text": [
      "WARNING: attempting to unsubscribe from stream but sensor wasn't listening: Actor 143 (sensor.camera.rgb) \n",
      "WARNING: attempting to unsubscribe from stream but sensor wasn't listening: Actor 143 (sensor.camera.rgb) \n",
      "WARNING: attempting to unsubscribe from stream but sensor wasn't listening: Actor 143 (sensor.camera.rgb) \n",
      "WARNING: attempting to unsubscribe from stream but sensor wasn't listening: Actor 143 (sensor.camera.rgb) \n"
     ]
    },
    {
     "name": "stdout",
     "output_type": "stream",
     "text": [
      "----------------------------------\n",
      "| rollout/            |          |\n",
      "|    ep_len_mean      | 1.68     |\n",
      "|    ep_rew_mean      | 1.36     |\n",
      "|    exploration_rate | 0.297    |\n",
      "| time/               |          |\n",
      "|    episodes         | 44       |\n",
      "|    fps              | 1        |\n",
      "|    time_elapsed     | 37       |\n",
      "|    total_timesteps  | 74       |\n",
      "----------------------------------\n"
     ]
    },
    {
     "name": "stderr",
     "output_type": "stream",
     "text": [
      "WARNING: attempting to unsubscribe from stream but sensor wasn't listening: Actor 143 (sensor.camera.rgb) \n",
      "WARNING: attempting to unsubscribe from stream but sensor wasn't listening: Actor 143 (sensor.camera.rgb) \n",
      "WARNING: attempting to unsubscribe from stream but sensor wasn't listening: Actor 143 (sensor.camera.rgb) \n",
      "WARNING: attempting to unsubscribe from stream but sensor wasn't listening: Actor 143 (sensor.camera.rgb) \n"
     ]
    },
    {
     "name": "stdout",
     "output_type": "stream",
     "text": [
      "----------------------------------\n",
      "| rollout/            |          |\n",
      "|    ep_len_mean      | 1.62     |\n",
      "|    ep_rew_mean      | 1.25     |\n",
      "|    exploration_rate | 0.259    |\n",
      "| time/               |          |\n",
      "|    episodes         | 48       |\n",
      "|    fps              | 1        |\n",
      "|    time_elapsed     | 39       |\n",
      "|    total_timesteps  | 78       |\n",
      "----------------------------------\n"
     ]
    },
    {
     "name": "stderr",
     "output_type": "stream",
     "text": [
      "WARNING: attempting to unsubscribe from stream but sensor wasn't listening: Actor 143 (sensor.camera.rgb) \n",
      "WARNING: attempting to unsubscribe from stream but sensor wasn't listening: Actor 143 (sensor.camera.rgb) \n",
      "WARNING: attempting to unsubscribe from stream but sensor wasn't listening: Actor 143 (sensor.camera.rgb) \n",
      "WARNING: attempting to unsubscribe from stream but sensor wasn't listening: Actor 143 (sensor.camera.rgb) \n"
     ]
    },
    {
     "name": "stdout",
     "output_type": "stream",
     "text": [
      "----------------------------------\n",
      "| rollout/            |          |\n",
      "|    ep_len_mean      | 1.58     |\n",
      "|    ep_rew_mean      | 1.15     |\n",
      "|    exploration_rate | 0.221    |\n",
      "| time/               |          |\n",
      "|    episodes         | 52       |\n",
      "|    fps              | 1        |\n",
      "|    time_elapsed     | 41       |\n",
      "|    total_timesteps  | 82       |\n",
      "----------------------------------\n"
     ]
    },
    {
     "name": "stderr",
     "output_type": "stream",
     "text": [
      "WARNING: attempting to unsubscribe from stream but sensor wasn't listening: Actor 143 (sensor.camera.rgb) \n",
      "WARNING: attempting to unsubscribe from stream but sensor wasn't listening: Actor 143 (sensor.camera.rgb) \n",
      "WARNING: attempting to unsubscribe from stream but sensor wasn't listening: Actor 143 (sensor.camera.rgb) \n",
      "WARNING: attempting to unsubscribe from stream but sensor wasn't listening: Actor 143 (sensor.camera.rgb) \n"
     ]
    },
    {
     "name": "stdout",
     "output_type": "stream",
     "text": [
      "----------------------------------\n",
      "| rollout/            |          |\n",
      "|    ep_len_mean      | 1.54     |\n",
      "|    ep_rew_mean      | 1.07     |\n",
      "|    exploration_rate | 0.183    |\n",
      "| time/               |          |\n",
      "|    episodes         | 56       |\n",
      "|    fps              | 1        |\n",
      "|    time_elapsed     | 43       |\n",
      "|    total_timesteps  | 86       |\n",
      "----------------------------------\n"
     ]
    },
    {
     "name": "stderr",
     "output_type": "stream",
     "text": [
      "WARNING: attempting to unsubscribe from stream but sensor wasn't listening: Actor 143 (sensor.camera.rgb) \n",
      "WARNING: attempting to unsubscribe from stream but sensor wasn't listening: Actor 143 (sensor.camera.rgb) \n",
      "WARNING: attempting to unsubscribe from stream but sensor wasn't listening: Actor 143 (sensor.camera.rgb) \n",
      "WARNING: attempting to unsubscribe from stream but sensor wasn't listening: Actor 143 (sensor.camera.rgb) \n"
     ]
    },
    {
     "name": "stdout",
     "output_type": "stream",
     "text": [
      "----------------------------------\n",
      "| rollout/            |          |\n",
      "|    ep_len_mean      | 1.5      |\n",
      "|    ep_rew_mean      | 1        |\n",
      "|    exploration_rate | 0.145    |\n",
      "| time/               |          |\n",
      "|    episodes         | 60       |\n",
      "|    fps              | 1        |\n",
      "|    time_elapsed     | 45       |\n",
      "|    total_timesteps  | 90       |\n",
      "----------------------------------\n"
     ]
    },
    {
     "name": "stderr",
     "output_type": "stream",
     "text": [
      "WARNING: attempting to unsubscribe from stream but sensor wasn't listening: Actor 143 (sensor.camera.rgb) \n",
      "WARNING: attempting to unsubscribe from stream but sensor wasn't listening: Actor 143 (sensor.camera.rgb) \n",
      "WARNING: attempting to unsubscribe from stream but sensor wasn't listening: Actor 143 (sensor.camera.rgb) \n",
      "WARNING: attempting to unsubscribe from stream but sensor wasn't listening: Actor 143 (sensor.camera.rgb) \n"
     ]
    },
    {
     "name": "stdout",
     "output_type": "stream",
     "text": [
      "----------------------------------\n",
      "| rollout/            |          |\n",
      "|    ep_len_mean      | 1.47     |\n",
      "|    ep_rew_mean      | 0.938    |\n",
      "|    exploration_rate | 0.107    |\n",
      "| time/               |          |\n",
      "|    episodes         | 64       |\n",
      "|    fps              | 1        |\n",
      "|    time_elapsed     | 47       |\n",
      "|    total_timesteps  | 94       |\n",
      "----------------------------------\n"
     ]
    },
    {
     "name": "stderr",
     "output_type": "stream",
     "text": [
      "WARNING: attempting to unsubscribe from stream but sensor wasn't listening: Actor 143 (sensor.camera.rgb) \n",
      "WARNING: attempting to unsubscribe from stream but sensor wasn't listening: Actor 143 (sensor.camera.rgb) \n",
      "WARNING: attempting to unsubscribe from stream but sensor wasn't listening: Actor 143 (sensor.camera.rgb) \n",
      "WARNING: attempting to unsubscribe from stream but sensor wasn't listening: Actor 143 (sensor.camera.rgb) \n"
     ]
    },
    {
     "name": "stdout",
     "output_type": "stream",
     "text": [
      "----------------------------------\n",
      "| rollout/            |          |\n",
      "|    ep_len_mean      | 1.44     |\n",
      "|    ep_rew_mean      | 0.882    |\n",
      "|    exploration_rate | 0.069    |\n",
      "| time/               |          |\n",
      "|    episodes         | 68       |\n",
      "|    fps              | 1        |\n",
      "|    time_elapsed     | 49       |\n",
      "|    total_timesteps  | 98       |\n",
      "----------------------------------\n"
     ]
    },
    {
     "name": "stderr",
     "output_type": "stream",
     "text": [
      "WARNING: attempting to unsubscribe from stream but sensor wasn't listening: Actor 143 (sensor.camera.rgb) \n",
      "WARNING: attempting to unsubscribe from stream but sensor wasn't listening: Actor 143 (sensor.camera.rgb) \n",
      "WARNING: attempting to unsubscribe from stream but sensor wasn't listening: Actor 143 (sensor.camera.rgb) \n",
      "WARNING: attempting to unsubscribe from stream but sensor wasn't listening: Actor 143 (sensor.camera.rgb) \n"
     ]
    },
    {
     "name": "stdout",
     "output_type": "stream",
     "text": [
      "----------------------------------\n",
      "| rollout/            |          |\n",
      "|    ep_len_mean      | 1.42     |\n",
      "|    ep_rew_mean      | 0.833    |\n",
      "|    exploration_rate | 0.05     |\n",
      "| time/               |          |\n",
      "|    episodes         | 72       |\n",
      "|    fps              | 1        |\n",
      "|    time_elapsed     | 51       |\n",
      "|    total_timesteps  | 102      |\n",
      "----------------------------------\n"
     ]
    },
    {
     "name": "stderr",
     "output_type": "stream",
     "text": [
      "WARNING: attempting to unsubscribe from stream but sensor wasn't listening: Actor 143 (sensor.camera.rgb) \n",
      "WARNING: attempting to unsubscribe from stream but sensor wasn't listening: Actor 143 (sensor.camera.rgb) \n",
      "WARNING: attempting to unsubscribe from stream but sensor wasn't listening: Actor 143 (sensor.camera.rgb) \n",
      "WARNING: attempting to unsubscribe from stream but sensor wasn't listening: Actor 143 (sensor.camera.rgb) \n"
     ]
    },
    {
     "name": "stdout",
     "output_type": "stream",
     "text": [
      "----------------------------------\n",
      "| rollout/            |          |\n",
      "|    ep_len_mean      | 1.39     |\n",
      "|    ep_rew_mean      | 0.789    |\n",
      "|    exploration_rate | 0.05     |\n",
      "| time/               |          |\n",
      "|    episodes         | 76       |\n",
      "|    fps              | 1        |\n",
      "|    time_elapsed     | 53       |\n",
      "|    total_timesteps  | 106      |\n",
      "----------------------------------\n"
     ]
    },
    {
     "name": "stderr",
     "output_type": "stream",
     "text": [
      "WARNING: attempting to unsubscribe from stream but sensor wasn't listening: Actor 143 (sensor.camera.rgb) \n",
      "WARNING: attempting to unsubscribe from stream but sensor wasn't listening: Actor 143 (sensor.camera.rgb) \n",
      "WARNING: attempting to unsubscribe from stream but sensor wasn't listening: Actor 143 (sensor.camera.rgb) \n",
      "WARNING: attempting to unsubscribe from stream but sensor wasn't listening: Actor 143 (sensor.camera.rgb) \n"
     ]
    },
    {
     "name": "stdout",
     "output_type": "stream",
     "text": [
      "----------------------------------\n",
      "| rollout/            |          |\n",
      "|    ep_len_mean      | 1.38     |\n",
      "|    ep_rew_mean      | 0.75     |\n",
      "|    exploration_rate | 0.05     |\n",
      "| time/               |          |\n",
      "|    episodes         | 80       |\n",
      "|    fps              | 1        |\n",
      "|    time_elapsed     | 55       |\n",
      "|    total_timesteps  | 110      |\n",
      "----------------------------------\n"
     ]
    },
    {
     "name": "stderr",
     "output_type": "stream",
     "text": [
      "WARNING: attempting to unsubscribe from stream but sensor wasn't listening: Actor 143 (sensor.camera.rgb) \n",
      "WARNING: attempting to unsubscribe from stream but sensor wasn't listening: Actor 143 (sensor.camera.rgb) \n",
      "WARNING: attempting to unsubscribe from stream but sensor wasn't listening: Actor 143 (sensor.camera.rgb) \n",
      "WARNING: attempting to unsubscribe from stream but sensor wasn't listening: Actor 143 (sensor.camera.rgb) \n"
     ]
    },
    {
     "name": "stdout",
     "output_type": "stream",
     "text": [
      "----------------------------------\n",
      "| rollout/            |          |\n",
      "|    ep_len_mean      | 1.36     |\n",
      "|    ep_rew_mean      | 0.714    |\n",
      "|    exploration_rate | 0.05     |\n",
      "| time/               |          |\n",
      "|    episodes         | 84       |\n",
      "|    fps              | 1        |\n",
      "|    time_elapsed     | 57       |\n",
      "|    total_timesteps  | 114      |\n",
      "----------------------------------\n"
     ]
    },
    {
     "name": "stderr",
     "output_type": "stream",
     "text": [
      "WARNING: attempting to unsubscribe from stream but sensor wasn't listening: Actor 143 (sensor.camera.rgb) \n",
      "WARNING: attempting to unsubscribe from stream but sensor wasn't listening: Actor 143 (sensor.camera.rgb) \n",
      "WARNING: attempting to unsubscribe from stream but sensor wasn't listening: Actor 143 (sensor.camera.rgb) \n",
      "WARNING: attempting to unsubscribe from stream but sensor wasn't listening: Actor 143 (sensor.camera.rgb) \n"
     ]
    },
    {
     "name": "stdout",
     "output_type": "stream",
     "text": [
      "----------------------------------\n",
      "| rollout/            |          |\n",
      "|    ep_len_mean      | 1.34     |\n",
      "|    ep_rew_mean      | 0.682    |\n",
      "|    exploration_rate | 0.05     |\n",
      "| time/               |          |\n",
      "|    episodes         | 88       |\n",
      "|    fps              | 1        |\n",
      "|    time_elapsed     | 59       |\n",
      "|    total_timesteps  | 118      |\n",
      "----------------------------------\n"
     ]
    },
    {
     "name": "stderr",
     "output_type": "stream",
     "text": [
      "WARNING: attempting to unsubscribe from stream but sensor wasn't listening: Actor 143 (sensor.camera.rgb) \n",
      "WARNING: attempting to unsubscribe from stream but sensor wasn't listening: Actor 143 (sensor.camera.rgb) \n",
      "WARNING: attempting to unsubscribe from stream but sensor wasn't listening: Actor 143 (sensor.camera.rgb) \n",
      "WARNING: attempting to unsubscribe from stream but sensor wasn't listening: Actor 143 (sensor.camera.rgb) \n"
     ]
    },
    {
     "name": "stdout",
     "output_type": "stream",
     "text": [
      "----------------------------------\n",
      "| rollout/            |          |\n",
      "|    ep_len_mean      | 1.33     |\n",
      "|    ep_rew_mean      | 0.652    |\n",
      "|    exploration_rate | 0.05     |\n",
      "| time/               |          |\n",
      "|    episodes         | 92       |\n",
      "|    fps              | 1        |\n",
      "|    time_elapsed     | 61       |\n",
      "|    total_timesteps  | 122      |\n",
      "----------------------------------\n"
     ]
    },
    {
     "name": "stderr",
     "output_type": "stream",
     "text": [
      "WARNING: attempting to unsubscribe from stream but sensor wasn't listening: Actor 143 (sensor.camera.rgb) \n",
      "WARNING: attempting to unsubscribe from stream but sensor wasn't listening: Actor 143 (sensor.camera.rgb) \n",
      "WARNING: attempting to unsubscribe from stream but sensor wasn't listening: Actor 143 (sensor.camera.rgb) \n",
      "WARNING: attempting to unsubscribe from stream but sensor wasn't listening: Actor 143 (sensor.camera.rgb) \n"
     ]
    },
    {
     "name": "stdout",
     "output_type": "stream",
     "text": [
      "----------------------------------\n",
      "| rollout/            |          |\n",
      "|    ep_len_mean      | 1.31     |\n",
      "|    ep_rew_mean      | 0.625    |\n",
      "|    exploration_rate | 0.05     |\n",
      "| time/               |          |\n",
      "|    episodes         | 96       |\n",
      "|    fps              | 1        |\n",
      "|    time_elapsed     | 63       |\n",
      "|    total_timesteps  | 126      |\n",
      "----------------------------------\n"
     ]
    },
    {
     "name": "stderr",
     "output_type": "stream",
     "text": [
      "WARNING: attempting to unsubscribe from stream but sensor wasn't listening: Actor 143 (sensor.camera.rgb) \n",
      "WARNING: attempting to unsubscribe from stream but sensor wasn't listening: Actor 143 (sensor.camera.rgb) \n",
      "WARNING: attempting to unsubscribe from stream but sensor wasn't listening: Actor 143 (sensor.camera.rgb) \n",
      "WARNING: attempting to unsubscribe from stream but sensor wasn't listening: Actor 143 (sensor.camera.rgb) \n"
     ]
    },
    {
     "name": "stdout",
     "output_type": "stream",
     "text": [
      "----------------------------------\n",
      "| rollout/            |          |\n",
      "|    ep_len_mean      | 1.3      |\n",
      "|    ep_rew_mean      | 0.6      |\n",
      "|    exploration_rate | 0.05     |\n",
      "| time/               |          |\n",
      "|    episodes         | 100      |\n",
      "|    fps              | 1        |\n",
      "|    time_elapsed     | 65       |\n",
      "|    total_timesteps  | 130      |\n",
      "----------------------------------\n"
     ]
    },
    {
     "name": "stderr",
     "output_type": "stream",
     "text": [
      "WARNING: attempting to unsubscribe from stream but sensor wasn't listening: Actor 143 (sensor.camera.rgb) \n",
      "WARNING: attempting to unsubscribe from stream but sensor wasn't listening: Actor 143 (sensor.camera.rgb) \n",
      "WARNING: attempting to unsubscribe from stream but sensor wasn't listening: Actor 143 (sensor.camera.rgb) \n",
      "WARNING: attempting to unsubscribe from stream but sensor wasn't listening: Actor 143 (sensor.camera.rgb) \n"
     ]
    },
    {
     "name": "stdout",
     "output_type": "stream",
     "text": [
      "----------------------------------\n",
      "| rollout/            |          |\n",
      "|    ep_len_mean      | 1        |\n",
      "|    ep_rew_mean      | 0        |\n",
      "|    exploration_rate | 0.05     |\n",
      "| time/               |          |\n",
      "|    episodes         | 104      |\n",
      "|    fps              | 1        |\n",
      "|    time_elapsed     | 67       |\n",
      "|    total_timesteps  | 134      |\n",
      "----------------------------------\n"
     ]
    },
    {
     "name": "stderr",
     "output_type": "stream",
     "text": [
      "WARNING: attempting to unsubscribe from stream but sensor wasn't listening: Actor 143 (sensor.camera.rgb) \n",
      "WARNING: attempting to unsubscribe from stream but sensor wasn't listening: Actor 143 (sensor.camera.rgb) \n",
      "WARNING: attempting to unsubscribe from stream but sensor wasn't listening: Actor 143 (sensor.camera.rgb) \n",
      "WARNING: attempting to unsubscribe from stream but sensor wasn't listening: Actor 143 (sensor.camera.rgb) \n"
     ]
    },
    {
     "name": "stdout",
     "output_type": "stream",
     "text": [
      "----------------------------------\n",
      "| rollout/            |          |\n",
      "|    ep_len_mean      | 1        |\n",
      "|    ep_rew_mean      | 0        |\n",
      "|    exploration_rate | 0.05     |\n",
      "| time/               |          |\n",
      "|    episodes         | 108      |\n",
      "|    fps              | 1        |\n",
      "|    time_elapsed     | 69       |\n",
      "|    total_timesteps  | 138      |\n",
      "----------------------------------\n"
     ]
    },
    {
     "name": "stderr",
     "output_type": "stream",
     "text": [
      "WARNING: attempting to unsubscribe from stream but sensor wasn't listening: Actor 143 (sensor.camera.rgb) \n",
      "WARNING: attempting to unsubscribe from stream but sensor wasn't listening: Actor 143 (sensor.camera.rgb) \n",
      "WARNING: attempting to unsubscribe from stream but sensor wasn't listening: Actor 143 (sensor.camera.rgb) \n",
      "WARNING: attempting to unsubscribe from stream but sensor wasn't listening: Actor 143 (sensor.camera.rgb) \n"
     ]
    },
    {
     "name": "stdout",
     "output_type": "stream",
     "text": [
      "----------------------------------\n",
      "| rollout/            |          |\n",
      "|    ep_len_mean      | 1        |\n",
      "|    ep_rew_mean      | 0        |\n",
      "|    exploration_rate | 0.05     |\n",
      "| time/               |          |\n",
      "|    episodes         | 112      |\n",
      "|    fps              | 1        |\n",
      "|    time_elapsed     | 71       |\n",
      "|    total_timesteps  | 142      |\n",
      "----------------------------------\n"
     ]
    },
    {
     "name": "stderr",
     "output_type": "stream",
     "text": [
      "WARNING: attempting to unsubscribe from stream but sensor wasn't listening: Actor 143 (sensor.camera.rgb) \n",
      "WARNING: attempting to unsubscribe from stream but sensor wasn't listening: Actor 143 (sensor.camera.rgb) \n",
      "WARNING: attempting to unsubscribe from stream but sensor wasn't listening: Actor 143 (sensor.camera.rgb) \n",
      "WARNING: attempting to unsubscribe from stream but sensor wasn't listening: Actor 143 (sensor.camera.rgb) \n"
     ]
    },
    {
     "name": "stdout",
     "output_type": "stream",
     "text": [
      "----------------------------------\n",
      "| rollout/            |          |\n",
      "|    ep_len_mean      | 1        |\n",
      "|    ep_rew_mean      | 0        |\n",
      "|    exploration_rate | 0.05     |\n",
      "| time/               |          |\n",
      "|    episodes         | 116      |\n",
      "|    fps              | 1        |\n",
      "|    time_elapsed     | 73       |\n",
      "|    total_timesteps  | 146      |\n",
      "----------------------------------\n"
     ]
    },
    {
     "name": "stderr",
     "output_type": "stream",
     "text": [
      "WARNING: attempting to unsubscribe from stream but sensor wasn't listening: Actor 143 (sensor.camera.rgb) \n",
      "WARNING: attempting to unsubscribe from stream but sensor wasn't listening: Actor 143 (sensor.camera.rgb) \n",
      "WARNING: attempting to unsubscribe from stream but sensor wasn't listening: Actor 143 (sensor.camera.rgb) \n",
      "WARNING: attempting to unsubscribe from stream but sensor wasn't listening: Actor 143 (sensor.camera.rgb) \n"
     ]
    },
    {
     "name": "stdout",
     "output_type": "stream",
     "text": [
      "----------------------------------\n",
      "| rollout/            |          |\n",
      "|    ep_len_mean      | 1        |\n",
      "|    ep_rew_mean      | 0        |\n",
      "|    exploration_rate | 0.05     |\n",
      "| time/               |          |\n",
      "|    episodes         | 120      |\n",
      "|    fps              | 1        |\n",
      "|    time_elapsed     | 75       |\n",
      "|    total_timesteps  | 150      |\n",
      "----------------------------------\n"
     ]
    },
    {
     "name": "stderr",
     "output_type": "stream",
     "text": [
      "WARNING: attempting to unsubscribe from stream but sensor wasn't listening: Actor 143 (sensor.camera.rgb) \n",
      "WARNING: attempting to unsubscribe from stream but sensor wasn't listening: Actor 143 (sensor.camera.rgb) \n",
      "WARNING: attempting to unsubscribe from stream but sensor wasn't listening: Actor 143 (sensor.camera.rgb) \n",
      "WARNING: attempting to unsubscribe from stream but sensor wasn't listening: Actor 143 (sensor.camera.rgb) \n"
     ]
    },
    {
     "name": "stdout",
     "output_type": "stream",
     "text": [
      "----------------------------------\n",
      "| rollout/            |          |\n",
      "|    ep_len_mean      | 1        |\n",
      "|    ep_rew_mean      | 0        |\n",
      "|    exploration_rate | 0.05     |\n",
      "| time/               |          |\n",
      "|    episodes         | 124      |\n",
      "|    fps              | 1        |\n",
      "|    time_elapsed     | 77       |\n",
      "|    total_timesteps  | 154      |\n",
      "----------------------------------\n"
     ]
    },
    {
     "name": "stderr",
     "output_type": "stream",
     "text": [
      "WARNING: attempting to unsubscribe from stream but sensor wasn't listening: Actor 143 (sensor.camera.rgb) \n",
      "WARNING: attempting to unsubscribe from stream but sensor wasn't listening: Actor 143 (sensor.camera.rgb) \n",
      "WARNING: attempting to unsubscribe from stream but sensor wasn't listening: Actor 143 (sensor.camera.rgb) \n",
      "WARNING: attempting to unsubscribe from stream but sensor wasn't listening: Actor 143 (sensor.camera.rgb) \n"
     ]
    },
    {
     "name": "stdout",
     "output_type": "stream",
     "text": [
      "----------------------------------\n",
      "| rollout/            |          |\n",
      "|    ep_len_mean      | 1        |\n",
      "|    ep_rew_mean      | 0        |\n",
      "|    exploration_rate | 0.05     |\n",
      "| time/               |          |\n",
      "|    episodes         | 128      |\n",
      "|    fps              | 1        |\n",
      "|    time_elapsed     | 80       |\n",
      "|    total_timesteps  | 158      |\n",
      "----------------------------------\n"
     ]
    },
    {
     "name": "stderr",
     "output_type": "stream",
     "text": [
      "WARNING: attempting to unsubscribe from stream but sensor wasn't listening: Actor 143 (sensor.camera.rgb) \n",
      "WARNING: attempting to unsubscribe from stream but sensor wasn't listening: Actor 143 (sensor.camera.rgb) \n",
      "WARNING: attempting to unsubscribe from stream but sensor wasn't listening: Actor 143 (sensor.camera.rgb) \n",
      "WARNING: attempting to unsubscribe from stream but sensor wasn't listening: Actor 143 (sensor.camera.rgb) \n"
     ]
    },
    {
     "name": "stdout",
     "output_type": "stream",
     "text": [
      "----------------------------------\n",
      "| rollout/            |          |\n",
      "|    ep_len_mean      | 1        |\n",
      "|    ep_rew_mean      | 0        |\n",
      "|    exploration_rate | 0.05     |\n",
      "| time/               |          |\n",
      "|    episodes         | 132      |\n",
      "|    fps              | 1        |\n",
      "|    time_elapsed     | 82       |\n",
      "|    total_timesteps  | 162      |\n",
      "----------------------------------\n"
     ]
    },
    {
     "name": "stderr",
     "output_type": "stream",
     "text": [
      "WARNING: attempting to unsubscribe from stream but sensor wasn't listening: Actor 143 (sensor.camera.rgb) \n",
      "WARNING: attempting to unsubscribe from stream but sensor wasn't listening: Actor 143 (sensor.camera.rgb) \n",
      "WARNING: attempting to unsubscribe from stream but sensor wasn't listening: Actor 143 (sensor.camera.rgb) \n",
      "WARNING: attempting to unsubscribe from stream but sensor wasn't listening: Actor 143 (sensor.camera.rgb) \n"
     ]
    },
    {
     "name": "stdout",
     "output_type": "stream",
     "text": [
      "----------------------------------\n",
      "| rollout/            |          |\n",
      "|    ep_len_mean      | 1        |\n",
      "|    ep_rew_mean      | 0        |\n",
      "|    exploration_rate | 0.05     |\n",
      "| time/               |          |\n",
      "|    episodes         | 136      |\n",
      "|    fps              | 1        |\n",
      "|    time_elapsed     | 84       |\n",
      "|    total_timesteps  | 166      |\n",
      "----------------------------------\n"
     ]
    },
    {
     "name": "stderr",
     "output_type": "stream",
     "text": [
      "WARNING: attempting to unsubscribe from stream but sensor wasn't listening: Actor 143 (sensor.camera.rgb) \n",
      "WARNING: attempting to unsubscribe from stream but sensor wasn't listening: Actor 143 (sensor.camera.rgb) \n",
      "WARNING: attempting to unsubscribe from stream but sensor wasn't listening: Actor 143 (sensor.camera.rgb) \n",
      "WARNING: attempting to unsubscribe from stream but sensor wasn't listening: Actor 143 (sensor.camera.rgb) \n"
     ]
    },
    {
     "name": "stdout",
     "output_type": "stream",
     "text": [
      "----------------------------------\n",
      "| rollout/            |          |\n",
      "|    ep_len_mean      | 1        |\n",
      "|    ep_rew_mean      | 0        |\n",
      "|    exploration_rate | 0.05     |\n",
      "| time/               |          |\n",
      "|    episodes         | 140      |\n",
      "|    fps              | 1        |\n",
      "|    time_elapsed     | 86       |\n",
      "|    total_timesteps  | 170      |\n",
      "----------------------------------\n"
     ]
    },
    {
     "name": "stderr",
     "output_type": "stream",
     "text": [
      "WARNING: attempting to unsubscribe from stream but sensor wasn't listening: Actor 143 (sensor.camera.rgb) \n",
      "WARNING: attempting to unsubscribe from stream but sensor wasn't listening: Actor 143 (sensor.camera.rgb) \n",
      "WARNING: attempting to unsubscribe from stream but sensor wasn't listening: Actor 143 (sensor.camera.rgb) \n",
      "WARNING: attempting to unsubscribe from stream but sensor wasn't listening: Actor 143 (sensor.camera.rgb) \n"
     ]
    },
    {
     "name": "stdout",
     "output_type": "stream",
     "text": [
      "----------------------------------\n",
      "| rollout/            |          |\n",
      "|    ep_len_mean      | 1        |\n",
      "|    ep_rew_mean      | 0        |\n",
      "|    exploration_rate | 0.05     |\n",
      "| time/               |          |\n",
      "|    episodes         | 144      |\n",
      "|    fps              | 1        |\n",
      "|    time_elapsed     | 88       |\n",
      "|    total_timesteps  | 174      |\n",
      "----------------------------------\n"
     ]
    },
    {
     "name": "stderr",
     "output_type": "stream",
     "text": [
      "WARNING: attempting to unsubscribe from stream but sensor wasn't listening: Actor 143 (sensor.camera.rgb) \n",
      "WARNING: attempting to unsubscribe from stream but sensor wasn't listening: Actor 143 (sensor.camera.rgb) \n",
      "WARNING: attempting to unsubscribe from stream but sensor wasn't listening: Actor 143 (sensor.camera.rgb) \n",
      "WARNING: attempting to unsubscribe from stream but sensor wasn't listening: Actor 143 (sensor.camera.rgb) \n"
     ]
    },
    {
     "name": "stdout",
     "output_type": "stream",
     "text": [
      "----------------------------------\n",
      "| rollout/            |          |\n",
      "|    ep_len_mean      | 1        |\n",
      "|    ep_rew_mean      | 0        |\n",
      "|    exploration_rate | 0.05     |\n",
      "| time/               |          |\n",
      "|    episodes         | 148      |\n",
      "|    fps              | 1        |\n",
      "|    time_elapsed     | 90       |\n",
      "|    total_timesteps  | 178      |\n",
      "----------------------------------\n"
     ]
    },
    {
     "name": "stderr",
     "output_type": "stream",
     "text": [
      "WARNING: attempting to unsubscribe from stream but sensor wasn't listening: Actor 143 (sensor.camera.rgb) \n",
      "WARNING: attempting to unsubscribe from stream but sensor wasn't listening: Actor 143 (sensor.camera.rgb) \n",
      "WARNING: attempting to unsubscribe from stream but sensor wasn't listening: Actor 143 (sensor.camera.rgb) \n",
      "WARNING: attempting to unsubscribe from stream but sensor wasn't listening: Actor 143 (sensor.camera.rgb) \n"
     ]
    },
    {
     "name": "stdout",
     "output_type": "stream",
     "text": [
      "----------------------------------\n",
      "| rollout/            |          |\n",
      "|    ep_len_mean      | 1        |\n",
      "|    ep_rew_mean      | 0        |\n",
      "|    exploration_rate | 0.05     |\n",
      "| time/               |          |\n",
      "|    episodes         | 152      |\n",
      "|    fps              | 1        |\n",
      "|    time_elapsed     | 92       |\n",
      "|    total_timesteps  | 182      |\n",
      "----------------------------------\n"
     ]
    },
    {
     "name": "stderr",
     "output_type": "stream",
     "text": [
      "WARNING: attempting to unsubscribe from stream but sensor wasn't listening: Actor 143 (sensor.camera.rgb) \n",
      "WARNING: attempting to unsubscribe from stream but sensor wasn't listening: Actor 143 (sensor.camera.rgb) \n",
      "WARNING: attempting to unsubscribe from stream but sensor wasn't listening: Actor 143 (sensor.camera.rgb) \n",
      "WARNING: attempting to unsubscribe from stream but sensor wasn't listening: Actor 143 (sensor.camera.rgb) \n"
     ]
    },
    {
     "name": "stdout",
     "output_type": "stream",
     "text": [
      "----------------------------------\n",
      "| rollout/            |          |\n",
      "|    ep_len_mean      | 1        |\n",
      "|    ep_rew_mean      | 0        |\n",
      "|    exploration_rate | 0.05     |\n",
      "| time/               |          |\n",
      "|    episodes         | 156      |\n",
      "|    fps              | 1        |\n",
      "|    time_elapsed     | 94       |\n",
      "|    total_timesteps  | 186      |\n",
      "----------------------------------\n"
     ]
    },
    {
     "name": "stderr",
     "output_type": "stream",
     "text": [
      "WARNING: attempting to unsubscribe from stream but sensor wasn't listening: Actor 143 (sensor.camera.rgb) \n",
      "WARNING: attempting to unsubscribe from stream but sensor wasn't listening: Actor 143 (sensor.camera.rgb) \n",
      "WARNING: attempting to unsubscribe from stream but sensor wasn't listening: Actor 143 (sensor.camera.rgb) \n",
      "WARNING: attempting to unsubscribe from stream but sensor wasn't listening: Actor 143 (sensor.camera.rgb) \n"
     ]
    },
    {
     "name": "stdout",
     "output_type": "stream",
     "text": [
      "----------------------------------\n",
      "| rollout/            |          |\n",
      "|    ep_len_mean      | 1        |\n",
      "|    ep_rew_mean      | 0        |\n",
      "|    exploration_rate | 0.05     |\n",
      "| time/               |          |\n",
      "|    episodes         | 160      |\n",
      "|    fps              | 1        |\n",
      "|    time_elapsed     | 96       |\n",
      "|    total_timesteps  | 190      |\n",
      "----------------------------------\n"
     ]
    },
    {
     "name": "stderr",
     "output_type": "stream",
     "text": [
      "WARNING: attempting to unsubscribe from stream but sensor wasn't listening: Actor 143 (sensor.camera.rgb) \n",
      "WARNING: attempting to unsubscribe from stream but sensor wasn't listening: Actor 143 (sensor.camera.rgb) \n",
      "WARNING: attempting to unsubscribe from stream but sensor wasn't listening: Actor 143 (sensor.camera.rgb) \n",
      "WARNING: attempting to unsubscribe from stream but sensor wasn't listening: Actor 143 (sensor.camera.rgb) \n"
     ]
    },
    {
     "name": "stdout",
     "output_type": "stream",
     "text": [
      "----------------------------------\n",
      "| rollout/            |          |\n",
      "|    ep_len_mean      | 1        |\n",
      "|    ep_rew_mean      | 0        |\n",
      "|    exploration_rate | 0.05     |\n",
      "| time/               |          |\n",
      "|    episodes         | 164      |\n",
      "|    fps              | 1        |\n",
      "|    time_elapsed     | 98       |\n",
      "|    total_timesteps  | 194      |\n",
      "----------------------------------\n"
     ]
    },
    {
     "name": "stderr",
     "output_type": "stream",
     "text": [
      "WARNING: attempting to unsubscribe from stream but sensor wasn't listening: Actor 143 (sensor.camera.rgb) \n",
      "WARNING: attempting to unsubscribe from stream but sensor wasn't listening: Actor 143 (sensor.camera.rgb) \n",
      "WARNING: attempting to unsubscribe from stream but sensor wasn't listening: Actor 143 (sensor.camera.rgb) \n",
      "WARNING: attempting to unsubscribe from stream but sensor wasn't listening: Actor 143 (sensor.camera.rgb) \n"
     ]
    },
    {
     "name": "stdout",
     "output_type": "stream",
     "text": [
      "----------------------------------\n",
      "| rollout/            |          |\n",
      "|    ep_len_mean      | 1        |\n",
      "|    ep_rew_mean      | 0        |\n",
      "|    exploration_rate | 0.05     |\n",
      "| time/               |          |\n",
      "|    episodes         | 168      |\n",
      "|    fps              | 1        |\n",
      "|    time_elapsed     | 100      |\n",
      "|    total_timesteps  | 198      |\n",
      "----------------------------------\n"
     ]
    },
    {
     "name": "stderr",
     "output_type": "stream",
     "text": [
      "WARNING: attempting to unsubscribe from stream but sensor wasn't listening: Actor 143 (sensor.camera.rgb) \n",
      "WARNING: attempting to unsubscribe from stream but sensor wasn't listening: Actor 143 (sensor.camera.rgb) \n",
      "WARNING: attempting to unsubscribe from stream but sensor wasn't listening: Actor 143 (sensor.camera.rgb) \n",
      "WARNING: attempting to unsubscribe from stream but sensor wasn't listening: Actor 143 (sensor.camera.rgb) \n"
     ]
    },
    {
     "name": "stdout",
     "output_type": "stream",
     "text": [
      "----------------------------------\n",
      "| rollout/            |          |\n",
      "|    ep_len_mean      | 1        |\n",
      "|    ep_rew_mean      | 0        |\n",
      "|    exploration_rate | 0.05     |\n",
      "| time/               |          |\n",
      "|    episodes         | 172      |\n",
      "|    fps              | 1        |\n",
      "|    time_elapsed     | 102      |\n",
      "|    total_timesteps  | 202      |\n",
      "----------------------------------\n"
     ]
    },
    {
     "name": "stderr",
     "output_type": "stream",
     "text": [
      "WARNING: attempting to unsubscribe from stream but sensor wasn't listening: Actor 143 (sensor.camera.rgb) \n",
      "WARNING: attempting to unsubscribe from stream but sensor wasn't listening: Actor 143 (sensor.camera.rgb) \n",
      "WARNING: attempting to unsubscribe from stream but sensor wasn't listening: Actor 143 (sensor.camera.rgb) \n",
      "WARNING: attempting to unsubscribe from stream but sensor wasn't listening: Actor 143 (sensor.camera.rgb) \n"
     ]
    },
    {
     "name": "stdout",
     "output_type": "stream",
     "text": [
      "----------------------------------\n",
      "| rollout/            |          |\n",
      "|    ep_len_mean      | 1        |\n",
      "|    ep_rew_mean      | 0        |\n",
      "|    exploration_rate | 0.05     |\n",
      "| time/               |          |\n",
      "|    episodes         | 176      |\n",
      "|    fps              | 1        |\n",
      "|    time_elapsed     | 104      |\n",
      "|    total_timesteps  | 206      |\n",
      "----------------------------------\n"
     ]
    },
    {
     "name": "stderr",
     "output_type": "stream",
     "text": [
      "WARNING: attempting to unsubscribe from stream but sensor wasn't listening: Actor 143 (sensor.camera.rgb) \n",
      "WARNING: attempting to unsubscribe from stream but sensor wasn't listening: Actor 143 (sensor.camera.rgb) \n",
      "WARNING: attempting to unsubscribe from stream but sensor wasn't listening: Actor 143 (sensor.camera.rgb) \n",
      "WARNING: attempting to unsubscribe from stream but sensor wasn't listening: Actor 143 (sensor.camera.rgb) \n"
     ]
    },
    {
     "name": "stdout",
     "output_type": "stream",
     "text": [
      "----------------------------------\n",
      "| rollout/            |          |\n",
      "|    ep_len_mean      | 1        |\n",
      "|    ep_rew_mean      | 0        |\n",
      "|    exploration_rate | 0.05     |\n",
      "| time/               |          |\n",
      "|    episodes         | 180      |\n",
      "|    fps              | 1        |\n",
      "|    time_elapsed     | 106      |\n",
      "|    total_timesteps  | 210      |\n",
      "----------------------------------\n"
     ]
    },
    {
     "name": "stderr",
     "output_type": "stream",
     "text": [
      "WARNING: attempting to unsubscribe from stream but sensor wasn't listening: Actor 143 (sensor.camera.rgb) \n",
      "WARNING: attempting to unsubscribe from stream but sensor wasn't listening: Actor 143 (sensor.camera.rgb) \n",
      "WARNING: attempting to unsubscribe from stream but sensor wasn't listening: Actor 143 (sensor.camera.rgb) \n",
      "WARNING: attempting to unsubscribe from stream but sensor wasn't listening: Actor 143 (sensor.camera.rgb) \n"
     ]
    },
    {
     "name": "stdout",
     "output_type": "stream",
     "text": [
      "----------------------------------\n",
      "| rollout/            |          |\n",
      "|    ep_len_mean      | 1        |\n",
      "|    ep_rew_mean      | 0        |\n",
      "|    exploration_rate | 0.05     |\n",
      "| time/               |          |\n",
      "|    episodes         | 184      |\n",
      "|    fps              | 1        |\n",
      "|    time_elapsed     | 108      |\n",
      "|    total_timesteps  | 214      |\n",
      "----------------------------------\n"
     ]
    },
    {
     "name": "stderr",
     "output_type": "stream",
     "text": [
      "WARNING: attempting to unsubscribe from stream but sensor wasn't listening: Actor 143 (sensor.camera.rgb) \n",
      "WARNING: attempting to unsubscribe from stream but sensor wasn't listening: Actor 143 (sensor.camera.rgb) \n",
      "WARNING: attempting to unsubscribe from stream but sensor wasn't listening: Actor 143 (sensor.camera.rgb) \n",
      "WARNING: attempting to unsubscribe from stream but sensor wasn't listening: Actor 143 (sensor.camera.rgb) \n"
     ]
    },
    {
     "name": "stdout",
     "output_type": "stream",
     "text": [
      "----------------------------------\n",
      "| rollout/            |          |\n",
      "|    ep_len_mean      | 1        |\n",
      "|    ep_rew_mean      | 0        |\n",
      "|    exploration_rate | 0.05     |\n",
      "| time/               |          |\n",
      "|    episodes         | 188      |\n",
      "|    fps              | 1        |\n",
      "|    time_elapsed     | 110      |\n",
      "|    total_timesteps  | 218      |\n",
      "----------------------------------\n"
     ]
    },
    {
     "name": "stderr",
     "output_type": "stream",
     "text": [
      "WARNING: attempting to unsubscribe from stream but sensor wasn't listening: Actor 143 (sensor.camera.rgb) \n",
      "WARNING: attempting to unsubscribe from stream but sensor wasn't listening: Actor 143 (sensor.camera.rgb) \n",
      "WARNING: attempting to unsubscribe from stream but sensor wasn't listening: Actor 143 (sensor.camera.rgb) \n",
      "WARNING: attempting to unsubscribe from stream but sensor wasn't listening: Actor 143 (sensor.camera.rgb) \n"
     ]
    },
    {
     "name": "stdout",
     "output_type": "stream",
     "text": [
      "----------------------------------\n",
      "| rollout/            |          |\n",
      "|    ep_len_mean      | 1        |\n",
      "|    ep_rew_mean      | 0        |\n",
      "|    exploration_rate | 0.05     |\n",
      "| time/               |          |\n",
      "|    episodes         | 192      |\n",
      "|    fps              | 1        |\n",
      "|    time_elapsed     | 112      |\n",
      "|    total_timesteps  | 222      |\n",
      "----------------------------------\n"
     ]
    },
    {
     "name": "stderr",
     "output_type": "stream",
     "text": [
      "WARNING: attempting to unsubscribe from stream but sensor wasn't listening: Actor 143 (sensor.camera.rgb) \n",
      "WARNING: attempting to unsubscribe from stream but sensor wasn't listening: Actor 143 (sensor.camera.rgb) \n",
      "WARNING: attempting to unsubscribe from stream but sensor wasn't listening: Actor 143 (sensor.camera.rgb) \n",
      "WARNING: attempting to unsubscribe from stream but sensor wasn't listening: Actor 143 (sensor.camera.rgb) \n"
     ]
    },
    {
     "name": "stdout",
     "output_type": "stream",
     "text": [
      "----------------------------------\n",
      "| rollout/            |          |\n",
      "|    ep_len_mean      | 1        |\n",
      "|    ep_rew_mean      | 0        |\n",
      "|    exploration_rate | 0.05     |\n",
      "| time/               |          |\n",
      "|    episodes         | 196      |\n",
      "|    fps              | 1        |\n",
      "|    time_elapsed     | 114      |\n",
      "|    total_timesteps  | 226      |\n",
      "----------------------------------\n"
     ]
    },
    {
     "name": "stderr",
     "output_type": "stream",
     "text": [
      "WARNING: attempting to unsubscribe from stream but sensor wasn't listening: Actor 143 (sensor.camera.rgb) \n",
      "WARNING: attempting to unsubscribe from stream but sensor wasn't listening: Actor 143 (sensor.camera.rgb) \n",
      "WARNING: attempting to unsubscribe from stream but sensor wasn't listening: Actor 143 (sensor.camera.rgb) \n",
      "WARNING: attempting to unsubscribe from stream but sensor wasn't listening: Actor 143 (sensor.camera.rgb) \n"
     ]
    },
    {
     "name": "stdout",
     "output_type": "stream",
     "text": [
      "----------------------------------\n",
      "| rollout/            |          |\n",
      "|    ep_len_mean      | 1        |\n",
      "|    ep_rew_mean      | 0        |\n",
      "|    exploration_rate | 0.05     |\n",
      "| time/               |          |\n",
      "|    episodes         | 200      |\n",
      "|    fps              | 1        |\n",
      "|    time_elapsed     | 116      |\n",
      "|    total_timesteps  | 230      |\n",
      "----------------------------------\n"
     ]
    },
    {
     "name": "stderr",
     "output_type": "stream",
     "text": [
      "WARNING: attempting to unsubscribe from stream but sensor wasn't listening: Actor 143 (sensor.camera.rgb) \n",
      "WARNING: attempting to unsubscribe from stream but sensor wasn't listening: Actor 143 (sensor.camera.rgb) \n",
      "WARNING: attempting to unsubscribe from stream but sensor wasn't listening: Actor 143 (sensor.camera.rgb) \n",
      "WARNING: attempting to unsubscribe from stream but sensor wasn't listening: Actor 143 (sensor.camera.rgb) \n"
     ]
    },
    {
     "name": "stdout",
     "output_type": "stream",
     "text": [
      "----------------------------------\n",
      "| rollout/            |          |\n",
      "|    ep_len_mean      | 1        |\n",
      "|    ep_rew_mean      | 0        |\n",
      "|    exploration_rate | 0.05     |\n",
      "| time/               |          |\n",
      "|    episodes         | 204      |\n",
      "|    fps              | 1        |\n",
      "|    time_elapsed     | 118      |\n",
      "|    total_timesteps  | 234      |\n",
      "----------------------------------\n"
     ]
    },
    {
     "name": "stderr",
     "output_type": "stream",
     "text": [
      "WARNING: attempting to unsubscribe from stream but sensor wasn't listening: Actor 143 (sensor.camera.rgb) \n",
      "WARNING: attempting to unsubscribe from stream but sensor wasn't listening: Actor 143 (sensor.camera.rgb) \n",
      "WARNING: attempting to unsubscribe from stream but sensor wasn't listening: Actor 143 (sensor.camera.rgb) \n",
      "WARNING: attempting to unsubscribe from stream but sensor wasn't listening: Actor 143 (sensor.camera.rgb) \n"
     ]
    },
    {
     "name": "stdout",
     "output_type": "stream",
     "text": [
      "----------------------------------\n",
      "| rollout/            |          |\n",
      "|    ep_len_mean      | 1        |\n",
      "|    ep_rew_mean      | 0        |\n",
      "|    exploration_rate | 0.05     |\n",
      "| time/               |          |\n",
      "|    episodes         | 208      |\n",
      "|    fps              | 1        |\n",
      "|    time_elapsed     | 120      |\n",
      "|    total_timesteps  | 238      |\n",
      "----------------------------------\n"
     ]
    },
    {
     "name": "stderr",
     "output_type": "stream",
     "text": [
      "WARNING: attempting to unsubscribe from stream but sensor wasn't listening: Actor 143 (sensor.camera.rgb) \n",
      "WARNING: attempting to unsubscribe from stream but sensor wasn't listening: Actor 143 (sensor.camera.rgb) \n",
      "WARNING: attempting to unsubscribe from stream but sensor wasn't listening: Actor 143 (sensor.camera.rgb) \n",
      "WARNING: attempting to unsubscribe from stream but sensor wasn't listening: Actor 143 (sensor.camera.rgb) \n"
     ]
    },
    {
     "name": "stdout",
     "output_type": "stream",
     "text": [
      "----------------------------------\n",
      "| rollout/            |          |\n",
      "|    ep_len_mean      | 1        |\n",
      "|    ep_rew_mean      | 0        |\n",
      "|    exploration_rate | 0.05     |\n",
      "| time/               |          |\n",
      "|    episodes         | 212      |\n",
      "|    fps              | 1        |\n",
      "|    time_elapsed     | 122      |\n",
      "|    total_timesteps  | 242      |\n",
      "----------------------------------\n"
     ]
    },
    {
     "name": "stderr",
     "output_type": "stream",
     "text": [
      "WARNING: attempting to unsubscribe from stream but sensor wasn't listening: Actor 143 (sensor.camera.rgb) \n",
      "WARNING: attempting to unsubscribe from stream but sensor wasn't listening: Actor 143 (sensor.camera.rgb) \n",
      "WARNING: attempting to unsubscribe from stream but sensor wasn't listening: Actor 143 (sensor.camera.rgb) \n",
      "WARNING: attempting to unsubscribe from stream but sensor wasn't listening: Actor 143 (sensor.camera.rgb) \n"
     ]
    },
    {
     "name": "stdout",
     "output_type": "stream",
     "text": [
      "----------------------------------\n",
      "| rollout/            |          |\n",
      "|    ep_len_mean      | 1        |\n",
      "|    ep_rew_mean      | 0        |\n",
      "|    exploration_rate | 0.05     |\n",
      "| time/               |          |\n",
      "|    episodes         | 216      |\n",
      "|    fps              | 1        |\n",
      "|    time_elapsed     | 124      |\n",
      "|    total_timesteps  | 246      |\n",
      "----------------------------------\n"
     ]
    },
    {
     "name": "stderr",
     "output_type": "stream",
     "text": [
      "WARNING: attempting to unsubscribe from stream but sensor wasn't listening: Actor 143 (sensor.camera.rgb) \n",
      "WARNING: attempting to unsubscribe from stream but sensor wasn't listening: Actor 143 (sensor.camera.rgb) \n",
      "WARNING: attempting to unsubscribe from stream but sensor wasn't listening: Actor 143 (sensor.camera.rgb) \n",
      "WARNING: attempting to unsubscribe from stream but sensor wasn't listening: Actor 143 (sensor.camera.rgb) \n"
     ]
    },
    {
     "name": "stdout",
     "output_type": "stream",
     "text": [
      "----------------------------------\n",
      "| rollout/            |          |\n",
      "|    ep_len_mean      | 1        |\n",
      "|    ep_rew_mean      | 0        |\n",
      "|    exploration_rate | 0.05     |\n",
      "| time/               |          |\n",
      "|    episodes         | 220      |\n",
      "|    fps              | 1        |\n",
      "|    time_elapsed     | 126      |\n",
      "|    total_timesteps  | 250      |\n",
      "----------------------------------\n"
     ]
    },
    {
     "name": "stderr",
     "output_type": "stream",
     "text": [
      "WARNING: attempting to unsubscribe from stream but sensor wasn't listening: Actor 143 (sensor.camera.rgb) \n",
      "WARNING: attempting to unsubscribe from stream but sensor wasn't listening: Actor 143 (sensor.camera.rgb) \n",
      "WARNING: attempting to unsubscribe from stream but sensor wasn't listening: Actor 143 (sensor.camera.rgb) \n",
      "WARNING: attempting to unsubscribe from stream but sensor wasn't listening: Actor 143 (sensor.camera.rgb) \n"
     ]
    },
    {
     "name": "stdout",
     "output_type": "stream",
     "text": [
      "----------------------------------\n",
      "| rollout/            |          |\n",
      "|    ep_len_mean      | 1        |\n",
      "|    ep_rew_mean      | 0        |\n",
      "|    exploration_rate | 0.05     |\n",
      "| time/               |          |\n",
      "|    episodes         | 224      |\n",
      "|    fps              | 1        |\n",
      "|    time_elapsed     | 128      |\n",
      "|    total_timesteps  | 254      |\n",
      "----------------------------------\n"
     ]
    },
    {
     "name": "stderr",
     "output_type": "stream",
     "text": [
      "WARNING: attempting to unsubscribe from stream but sensor wasn't listening: Actor 143 (sensor.camera.rgb) \n",
      "WARNING: attempting to unsubscribe from stream but sensor wasn't listening: Actor 143 (sensor.camera.rgb) \n"
     ]
    },
    {
     "ename": "KeyboardInterrupt",
     "evalue": "",
     "output_type": "error",
     "traceback": [
      "\u001b[0;31m---------------------------------------------------------------------------\u001b[0m",
      "\u001b[0;31mKeyboardInterrupt\u001b[0m                         Traceback (most recent call last)",
      "Cell \u001b[0;32mIn[10], line 1\u001b[0m\n\u001b[0;32m----> 1\u001b[0m \u001b[43mmodel\u001b[49m\u001b[38;5;241;43m.\u001b[39;49m\u001b[43mlearn\u001b[49m\u001b[43m(\u001b[49m\u001b[38;5;241;43m1000\u001b[39;49m\u001b[43m)\u001b[49m\n",
      "File \u001b[0;32m~/.local/lib/python3.8/site-packages/stable_baselines3/dqn/dqn.py:267\u001b[0m, in \u001b[0;36mDQN.learn\u001b[0;34m(self, total_timesteps, callback, log_interval, tb_log_name, reset_num_timesteps, progress_bar)\u001b[0m\n\u001b[1;32m    258\u001b[0m \u001b[38;5;28;01mdef\u001b[39;00m \u001b[38;5;21mlearn\u001b[39m(\n\u001b[1;32m    259\u001b[0m     \u001b[38;5;28mself\u001b[39m: SelfDQN,\n\u001b[1;32m    260\u001b[0m     total_timesteps: \u001b[38;5;28mint\u001b[39m,\n\u001b[0;32m   (...)\u001b[0m\n\u001b[1;32m    265\u001b[0m     progress_bar: \u001b[38;5;28mbool\u001b[39m \u001b[38;5;241m=\u001b[39m \u001b[38;5;28;01mFalse\u001b[39;00m,\n\u001b[1;32m    266\u001b[0m ) \u001b[38;5;241m-\u001b[39m\u001b[38;5;241m>\u001b[39m SelfDQN:\n\u001b[0;32m--> 267\u001b[0m     \u001b[38;5;28;01mreturn\u001b[39;00m \u001b[38;5;28;43msuper\u001b[39;49m\u001b[43m(\u001b[49m\u001b[43m)\u001b[49m\u001b[38;5;241;43m.\u001b[39;49m\u001b[43mlearn\u001b[49m\u001b[43m(\u001b[49m\n\u001b[1;32m    268\u001b[0m \u001b[43m        \u001b[49m\u001b[43mtotal_timesteps\u001b[49m\u001b[38;5;241;43m=\u001b[39;49m\u001b[43mtotal_timesteps\u001b[49m\u001b[43m,\u001b[49m\n\u001b[1;32m    269\u001b[0m \u001b[43m        \u001b[49m\u001b[43mcallback\u001b[49m\u001b[38;5;241;43m=\u001b[39;49m\u001b[43mcallback\u001b[49m\u001b[43m,\u001b[49m\n\u001b[1;32m    270\u001b[0m \u001b[43m        \u001b[49m\u001b[43mlog_interval\u001b[49m\u001b[38;5;241;43m=\u001b[39;49m\u001b[43mlog_interval\u001b[49m\u001b[43m,\u001b[49m\n\u001b[1;32m    271\u001b[0m \u001b[43m        \u001b[49m\u001b[43mtb_log_name\u001b[49m\u001b[38;5;241;43m=\u001b[39;49m\u001b[43mtb_log_name\u001b[49m\u001b[43m,\u001b[49m\n\u001b[1;32m    272\u001b[0m \u001b[43m        \u001b[49m\u001b[43mreset_num_timesteps\u001b[49m\u001b[38;5;241;43m=\u001b[39;49m\u001b[43mreset_num_timesteps\u001b[49m\u001b[43m,\u001b[49m\n\u001b[1;32m    273\u001b[0m \u001b[43m        \u001b[49m\u001b[43mprogress_bar\u001b[49m\u001b[38;5;241;43m=\u001b[39;49m\u001b[43mprogress_bar\u001b[49m\u001b[43m,\u001b[49m\n\u001b[1;32m    274\u001b[0m \u001b[43m    \u001b[49m\u001b[43m)\u001b[49m\n",
      "File \u001b[0;32m~/.local/lib/python3.8/site-packages/stable_baselines3/common/off_policy_algorithm.py:312\u001b[0m, in \u001b[0;36mOffPolicyAlgorithm.learn\u001b[0;34m(self, total_timesteps, callback, log_interval, tb_log_name, reset_num_timesteps, progress_bar)\u001b[0m\n\u001b[1;32m    309\u001b[0m callback\u001b[38;5;241m.\u001b[39mon_training_start(\u001b[38;5;28mlocals\u001b[39m(), \u001b[38;5;28mglobals\u001b[39m())\n\u001b[1;32m    311\u001b[0m \u001b[38;5;28;01mwhile\u001b[39;00m \u001b[38;5;28mself\u001b[39m\u001b[38;5;241m.\u001b[39mnum_timesteps \u001b[38;5;241m<\u001b[39m total_timesteps:\n\u001b[0;32m--> 312\u001b[0m     rollout \u001b[38;5;241m=\u001b[39m \u001b[38;5;28;43mself\u001b[39;49m\u001b[38;5;241;43m.\u001b[39;49m\u001b[43mcollect_rollouts\u001b[49m\u001b[43m(\u001b[49m\n\u001b[1;32m    313\u001b[0m \u001b[43m        \u001b[49m\u001b[38;5;28;43mself\u001b[39;49m\u001b[38;5;241;43m.\u001b[39;49m\u001b[43menv\u001b[49m\u001b[43m,\u001b[49m\n\u001b[1;32m    314\u001b[0m \u001b[43m        \u001b[49m\u001b[43mtrain_freq\u001b[49m\u001b[38;5;241;43m=\u001b[39;49m\u001b[38;5;28;43mself\u001b[39;49m\u001b[38;5;241;43m.\u001b[39;49m\u001b[43mtrain_freq\u001b[49m\u001b[43m,\u001b[49m\n\u001b[1;32m    315\u001b[0m \u001b[43m        \u001b[49m\u001b[43maction_noise\u001b[49m\u001b[38;5;241;43m=\u001b[39;49m\u001b[38;5;28;43mself\u001b[39;49m\u001b[38;5;241;43m.\u001b[39;49m\u001b[43maction_noise\u001b[49m\u001b[43m,\u001b[49m\n\u001b[1;32m    316\u001b[0m \u001b[43m        \u001b[49m\u001b[43mcallback\u001b[49m\u001b[38;5;241;43m=\u001b[39;49m\u001b[43mcallback\u001b[49m\u001b[43m,\u001b[49m\n\u001b[1;32m    317\u001b[0m \u001b[43m        \u001b[49m\u001b[43mlearning_starts\u001b[49m\u001b[38;5;241;43m=\u001b[39;49m\u001b[38;5;28;43mself\u001b[39;49m\u001b[38;5;241;43m.\u001b[39;49m\u001b[43mlearning_starts\u001b[49m\u001b[43m,\u001b[49m\n\u001b[1;32m    318\u001b[0m \u001b[43m        \u001b[49m\u001b[43mreplay_buffer\u001b[49m\u001b[38;5;241;43m=\u001b[39;49m\u001b[38;5;28;43mself\u001b[39;49m\u001b[38;5;241;43m.\u001b[39;49m\u001b[43mreplay_buffer\u001b[49m\u001b[43m,\u001b[49m\n\u001b[1;32m    319\u001b[0m \u001b[43m        \u001b[49m\u001b[43mlog_interval\u001b[49m\u001b[38;5;241;43m=\u001b[39;49m\u001b[43mlog_interval\u001b[49m\u001b[43m,\u001b[49m\n\u001b[1;32m    320\u001b[0m \u001b[43m    \u001b[49m\u001b[43m)\u001b[49m\n\u001b[1;32m    322\u001b[0m     \u001b[38;5;28;01mif\u001b[39;00m rollout\u001b[38;5;241m.\u001b[39mcontinue_training \u001b[38;5;129;01mis\u001b[39;00m \u001b[38;5;28;01mFalse\u001b[39;00m:\n\u001b[1;32m    323\u001b[0m         \u001b[38;5;28;01mbreak\u001b[39;00m\n",
      "File \u001b[0;32m~/.local/lib/python3.8/site-packages/stable_baselines3/common/off_policy_algorithm.py:544\u001b[0m, in \u001b[0;36mOffPolicyAlgorithm.collect_rollouts\u001b[0;34m(self, env, callback, train_freq, replay_buffer, action_noise, learning_starts, log_interval)\u001b[0m\n\u001b[1;32m    541\u001b[0m actions, buffer_actions \u001b[38;5;241m=\u001b[39m \u001b[38;5;28mself\u001b[39m\u001b[38;5;241m.\u001b[39m_sample_action(learning_starts, action_noise, env\u001b[38;5;241m.\u001b[39mnum_envs)\n\u001b[1;32m    543\u001b[0m \u001b[38;5;66;03m# Rescale and perform action\u001b[39;00m\n\u001b[0;32m--> 544\u001b[0m new_obs, rewards, dones, infos \u001b[38;5;241m=\u001b[39m \u001b[43menv\u001b[49m\u001b[38;5;241;43m.\u001b[39;49m\u001b[43mstep\u001b[49m\u001b[43m(\u001b[49m\u001b[43mactions\u001b[49m\u001b[43m)\u001b[49m\n\u001b[1;32m    546\u001b[0m \u001b[38;5;28mself\u001b[39m\u001b[38;5;241m.\u001b[39mnum_timesteps \u001b[38;5;241m+\u001b[39m\u001b[38;5;241m=\u001b[39m env\u001b[38;5;241m.\u001b[39mnum_envs\n\u001b[1;32m    547\u001b[0m num_collected_steps \u001b[38;5;241m+\u001b[39m\u001b[38;5;241m=\u001b[39m \u001b[38;5;241m1\u001b[39m\n",
      "File \u001b[0;32m~/.local/lib/python3.8/site-packages/stable_baselines3/common/vec_env/base_vec_env.py:197\u001b[0m, in \u001b[0;36mVecEnv.step\u001b[0;34m(self, actions)\u001b[0m\n\u001b[1;32m    190\u001b[0m \u001b[38;5;250m\u001b[39m\u001b[38;5;124;03m\"\"\"\u001b[39;00m\n\u001b[1;32m    191\u001b[0m \u001b[38;5;124;03mStep the environments with the given action\u001b[39;00m\n\u001b[1;32m    192\u001b[0m \n\u001b[1;32m    193\u001b[0m \u001b[38;5;124;03m:param actions: the action\u001b[39;00m\n\u001b[1;32m    194\u001b[0m \u001b[38;5;124;03m:return: observation, reward, done, information\u001b[39;00m\n\u001b[1;32m    195\u001b[0m \u001b[38;5;124;03m\"\"\"\u001b[39;00m\n\u001b[1;32m    196\u001b[0m \u001b[38;5;28mself\u001b[39m\u001b[38;5;241m.\u001b[39mstep_async(actions)\n\u001b[0;32m--> 197\u001b[0m \u001b[38;5;28;01mreturn\u001b[39;00m \u001b[38;5;28;43mself\u001b[39;49m\u001b[38;5;241;43m.\u001b[39;49m\u001b[43mstep_wait\u001b[49m\u001b[43m(\u001b[49m\u001b[43m)\u001b[49m\n",
      "File \u001b[0;32m~/.local/lib/python3.8/site-packages/stable_baselines3/common/vec_env/vec_transpose.py:95\u001b[0m, in \u001b[0;36mVecTransposeImage.step_wait\u001b[0;34m(self)\u001b[0m\n\u001b[1;32m     94\u001b[0m \u001b[38;5;28;01mdef\u001b[39;00m \u001b[38;5;21mstep_wait\u001b[39m(\u001b[38;5;28mself\u001b[39m) \u001b[38;5;241m-\u001b[39m\u001b[38;5;241m>\u001b[39m VecEnvStepReturn:\n\u001b[0;32m---> 95\u001b[0m     observations, rewards, dones, infos \u001b[38;5;241m=\u001b[39m \u001b[38;5;28;43mself\u001b[39;49m\u001b[38;5;241;43m.\u001b[39;49m\u001b[43mvenv\u001b[49m\u001b[38;5;241;43m.\u001b[39;49m\u001b[43mstep_wait\u001b[49m\u001b[43m(\u001b[49m\u001b[43m)\u001b[49m\n\u001b[1;32m     97\u001b[0m     \u001b[38;5;66;03m# Transpose the terminal observations\u001b[39;00m\n\u001b[1;32m     98\u001b[0m     \u001b[38;5;28;01mfor\u001b[39;00m idx, done \u001b[38;5;129;01min\u001b[39;00m \u001b[38;5;28menumerate\u001b[39m(dones):\n",
      "File \u001b[0;32m~/.local/lib/python3.8/site-packages/stable_baselines3/common/vec_env/dummy_vec_env.py:58\u001b[0m, in \u001b[0;36mDummyVecEnv.step_wait\u001b[0;34m(self)\u001b[0m\n\u001b[1;32m     55\u001b[0m \u001b[38;5;28;01mdef\u001b[39;00m \u001b[38;5;21mstep_wait\u001b[39m(\u001b[38;5;28mself\u001b[39m) \u001b[38;5;241m-\u001b[39m\u001b[38;5;241m>\u001b[39m VecEnvStepReturn:\n\u001b[1;32m     56\u001b[0m     \u001b[38;5;66;03m# Avoid circular imports\u001b[39;00m\n\u001b[1;32m     57\u001b[0m     \u001b[38;5;28;01mfor\u001b[39;00m env_idx \u001b[38;5;129;01min\u001b[39;00m \u001b[38;5;28mrange\u001b[39m(\u001b[38;5;28mself\u001b[39m\u001b[38;5;241m.\u001b[39mnum_envs):\n\u001b[0;32m---> 58\u001b[0m         obs, \u001b[38;5;28mself\u001b[39m\u001b[38;5;241m.\u001b[39mbuf_rews[env_idx], terminated, truncated, \u001b[38;5;28mself\u001b[39m\u001b[38;5;241m.\u001b[39mbuf_infos[env_idx] \u001b[38;5;241m=\u001b[39m \u001b[38;5;28;43mself\u001b[39;49m\u001b[38;5;241;43m.\u001b[39;49m\u001b[43menvs\u001b[49m\u001b[43m[\u001b[49m\u001b[43menv_idx\u001b[49m\u001b[43m]\u001b[49m\u001b[38;5;241;43m.\u001b[39;49m\u001b[43mstep\u001b[49m\u001b[43m(\u001b[49m\n\u001b[1;32m     59\u001b[0m \u001b[43m            \u001b[49m\u001b[38;5;28;43mself\u001b[39;49m\u001b[38;5;241;43m.\u001b[39;49m\u001b[43mactions\u001b[49m\u001b[43m[\u001b[49m\u001b[43menv_idx\u001b[49m\u001b[43m]\u001b[49m\n\u001b[1;32m     60\u001b[0m \u001b[43m        \u001b[49m\u001b[43m)\u001b[49m\n\u001b[1;32m     61\u001b[0m         \u001b[38;5;66;03m# convert to SB3 VecEnv api\u001b[39;00m\n\u001b[1;32m     62\u001b[0m         \u001b[38;5;28mself\u001b[39m\u001b[38;5;241m.\u001b[39mbuf_dones[env_idx] \u001b[38;5;241m=\u001b[39m terminated \u001b[38;5;129;01mor\u001b[39;00m truncated\n",
      "File \u001b[0;32m~/.local/lib/python3.8/site-packages/stable_baselines3/common/monitor.py:94\u001b[0m, in \u001b[0;36mMonitor.step\u001b[0;34m(self, action)\u001b[0m\n\u001b[1;32m     92\u001b[0m \u001b[38;5;28;01mif\u001b[39;00m \u001b[38;5;28mself\u001b[39m\u001b[38;5;241m.\u001b[39mneeds_reset:\n\u001b[1;32m     93\u001b[0m     \u001b[38;5;28;01mraise\u001b[39;00m \u001b[38;5;167;01mRuntimeError\u001b[39;00m(\u001b[38;5;124m\"\u001b[39m\u001b[38;5;124mTried to step environment that needs reset\u001b[39m\u001b[38;5;124m\"\u001b[39m)\n\u001b[0;32m---> 94\u001b[0m observation, reward, terminated, truncated, info \u001b[38;5;241m=\u001b[39m \u001b[38;5;28;43mself\u001b[39;49m\u001b[38;5;241;43m.\u001b[39;49m\u001b[43menv\u001b[49m\u001b[38;5;241;43m.\u001b[39;49m\u001b[43mstep\u001b[49m\u001b[43m(\u001b[49m\u001b[43maction\u001b[49m\u001b[43m)\u001b[49m\n\u001b[1;32m     95\u001b[0m \u001b[38;5;28mself\u001b[39m\u001b[38;5;241m.\u001b[39mrewards\u001b[38;5;241m.\u001b[39mappend(\u001b[38;5;28mfloat\u001b[39m(reward))\n\u001b[1;32m     96\u001b[0m \u001b[38;5;28;01mif\u001b[39;00m terminated \u001b[38;5;129;01mor\u001b[39;00m truncated:\n",
      "Cell \u001b[0;32mIn[3], line 94\u001b[0m, in \u001b[0;36mCarlaEnv.step\u001b[0;34m(self, action)\u001b[0m\n\u001b[1;32m     90\u001b[0m \u001b[38;5;28mself\u001b[39m\u001b[38;5;241m.\u001b[39mego_vehicle\u001b[38;5;241m.\u001b[39mapply_control(vehicle_control_cmd)\n\u001b[1;32m     93\u001b[0m \u001b[38;5;66;03m# Let the simulator respond\u001b[39;00m\n\u001b[0;32m---> 94\u001b[0m \u001b[43msleep\u001b[49m\u001b[43m(\u001b[49m\u001b[38;5;241;43m0.5\u001b[39;49m\u001b[43m)\u001b[49m\n\u001b[1;32m     96\u001b[0m \u001b[38;5;66;03m# Optionally we can pass additional info, we are not using that for now\u001b[39;00m\n\u001b[1;32m     97\u001b[0m info \u001b[38;5;241m=\u001b[39m {}\n",
      "\u001b[0;31mKeyboardInterrupt\u001b[0m: "
     ]
    }
   ],
   "source": [
    "model.learn(1000)"
   ]
  },
  {
   "cell_type": "code",
   "execution_count": null,
   "id": "1cb15ee7",
   "metadata": {},
   "outputs": [],
   "source": [
    "print(env.crossed_lane)"
   ]
  },
  {
   "cell_type": "code",
   "execution_count": null,
   "id": "c439327b",
   "metadata": {},
   "outputs": [],
   "source": [
    "env.reset()"
   ]
  },
  {
   "cell_type": "code",
   "execution_count": null,
   "id": "6eb19a1c",
   "metadata": {},
   "outputs": [],
   "source": []
  }
 ],
 "metadata": {
  "kernelspec": {
   "display_name": "Python 3 (ipykernel)",
   "language": "python",
   "name": "python3"
  },
  "language_info": {
   "codemirror_mode": {
    "name": "ipython",
    "version": 3
   },
   "file_extension": ".py",
   "mimetype": "text/x-python",
   "name": "python",
   "nbconvert_exporter": "python",
   "pygments_lexer": "ipython3",
   "version": "3.8.16"
  }
 },
 "nbformat": 4,
 "nbformat_minor": 5
}
