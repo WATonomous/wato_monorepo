{
 "cells": [
  {
   "cell_type": "code",
   "execution_count": null,
   "id": "f049108d-dc1b-4708-8aa6-024b5834c3d6",
   "metadata": {},
   "outputs": [],
   "source": [
    "!pip install -q gym numpy gymnasium stable-baselines3"
   ]
  },
  {
   "cell_type": "code",
   "execution_count": null,
   "id": "5eb66447-8889-46c7-ac27-e833a3e818f9",
   "metadata": {},
   "outputs": [],
   "source": [
    "import carla\n",
    "import os\n",
    "import gymnasium as gym\n",
    "import numpy as np\n",
    "from gymnasium import spaces\n",
    "from time import sleep\n",
    "import queue"
   ]
  },
  {
   "cell_type": "code",
   "execution_count": null,
   "id": "f2e4e602-1a68-447d-98d2-e0df1fe67783",
   "metadata": {},
   "outputs": [],
   "source": [
    "class CarlaEnv(gym.Env):\n",
    "\n",
    "    def __init__(self, params):\n",
    "        # Initial parameters\n",
    "        self.desired_speed = params['desired_speed']\n",
    "        self.number_of_vehicles = params['number_of_vehicles']\n",
    "        self.number_of_walkers = params['number_of_walkers']\n",
    "\n",
    "        # Destination\n",
    "        self.dests = None\n",
    "\n",
    "        # action space\n",
    "        # load in the the discrete action space for each type of output\n",
    "        self.discrete_act[params['discrete_acc'], params['discrete_steer'], params['discrete_brake'])\n",
    "        self.n_acc = len(self.discrete_act[0])\n",
    "        self.n_steer = len(self.discrete_act[1])\n",
    "        self.n_brake = len(self.discrete_act[2])\n",
    "        # Accel and steer are seperated as it makes no sense to use both at same time\n",
    "        self.action_space = spaces.Discrete((self.n_acc*self.n_steer) + (self.n_steer*self.n_brake))\n",
    "\n",
    "        # observation space\n",
    "        observation_space_dict = {\n",
    "            'camera': spaces.Box(\n",
    "        }\n",
    "        \n",
    "        "
   ]
  }
 ],
 "metadata": {
  "kernelspec": {
   "display_name": "Python 3 (ipykernel)",
   "language": "python",
   "name": "python3"
  },
  "language_info": {
   "codemirror_mode": {
    "name": "ipython",
    "version": 3
   },
   "file_extension": ".py",
   "mimetype": "text/x-python",
   "name": "python",
   "nbconvert_exporter": "python",
   "pygments_lexer": "ipython3",
   "version": "3.8.16"
  }
 },
 "nbformat": 4,
 "nbformat_minor": 5
}
