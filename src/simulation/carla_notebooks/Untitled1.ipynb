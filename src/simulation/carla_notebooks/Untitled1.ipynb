{
 "cells": [
  {
   "cell_type": "code",
   "execution_count": 1,
   "id": "d015a62b-c0a2-4f9c-a07e-6116f5f2b9b7",
   "metadata": {},
   "outputs": [],
   "source": [
    "import carla\n",
    "import os\n",
    "\n",
    "client_name = os.environ.get(\"CLIENT_NAME\", \"DOES NOT EXIST\")\n",
    "if client_name == \"DOES NOT EXIST\":\n",
    "    raise Exception(\"The environment variable for the container name of the carla server has not been set\")\n",
    "\n",
    "# Connect to the client and retrieve the world object\n",
    "client = carla.Client(client_name, 2000)\n",
    "client.set_timeout(30)\n",
    "world = client.get_world()"
   ]
  },
  {
   "cell_type": "code",
   "execution_count": 2,
   "id": "439f24e8-ca76-44e2-96dd-2fb0a4d4c587",
   "metadata": {},
   "outputs": [
    {
     "data": {
      "text/plain": [
       "196"
      ]
     },
     "execution_count": 2,
     "metadata": {},
     "output_type": "execute_result"
    }
   ],
   "source": [
    "# Set synchronous mode settings\n",
    "new_settings = world.get_settings()\n",
    "new_settings.synchronous_mode = True\n",
    "new_settings.fixed_delta_seconds = 0.05\n",
    "world.apply_settings(new_settings) "
   ]
  },
  {
   "cell_type": "code",
   "execution_count": 3,
   "id": "40b72fb6-e320-4948-b37e-2c97a839a3e3",
   "metadata": {},
   "outputs": [
    {
     "data": {
      "text/plain": [
       "524"
      ]
     },
     "execution_count": 3,
     "metadata": {},
     "output_type": "execute_result"
    }
   ],
   "source": [
    "# Set synchronous mode settings\n",
    "new_settings = world.get_settings()\n",
    "new_settings.synchronous_mode = False\n",
    "new_settings.fixed_delta_seconds = None\n",
    "world.apply_settings(new_settings) "
   ]
  },
  {
   "cell_type": "code",
   "execution_count": null,
   "id": "9f2888f8-4009-41bd-9765-cc0ff4be9bbc",
   "metadata": {},
   "outputs": [],
   "source": [
    "for actor in world.get_actors():\n",
    "    if actor.is_alive:\n",
    "      actor.destroy()"
   ]
  },
  {
   "cell_type": "code",
   "execution_count": 3,
   "id": "db99616f-cd99-4439-bebf-baca7dc19a46",
   "metadata": {},
   "outputs": [],
   "source": [
    "import random \n",
    "# Get the blueprint library and filter for the vehicle blueprints\n",
    "vehicle_blueprints = world.get_blueprint_library().filter('vehicle.mini.cooper_s_2021')\n",
    "\n",
    "# Get the map's spawn points\n",
    "spawn_points = world.get_map().get_spawn_points()\n",
    "\n",
    "ego_bp = random.choice(vehicle_blueprints)\n",
    "ego_bp.set_attribute(\"role_name\", \"ego\")\n",
    "\n",
    "ego_vehicle = world.try_spawn_actor(ego_bp, random.choice(spawn_points))"
   ]
  },
  {
   "cell_type": "code",
   "execution_count": 3,
   "id": "2ce06fd7-2e80-497b-9910-9b414cd33045",
   "metadata": {},
   "outputs": [],
   "source": [
    "from timeit import default_timer\n",
    "init_time = default_timer()\n",
    "while(default_timer() - init_time < 15):\n",
    "    world.tick()"
   ]
  },
  {
   "cell_type": "code",
   "execution_count": 21,
   "id": "3abf8a04-bfbf-4c4f-8a0b-2cc1bba6821e",
   "metadata": {},
   "outputs": [],
   "source": [
    "camera.destroy()\n",
    "# Create a transform to place the camera on top of the vehicle\n",
    "camera_init_trans = carla.Transform(carla.Location(x=0.5, z=2.0))\n",
    "\n",
    "# We create the camera through a blueprint that defines its properties\n",
    "camera_bp = world.get_blueprint_library().find('sensor.camera.rgb')\n",
    "\n",
    "# We spawn the camera and attach it to our ego vehicle\n",
    "camera = world.spawn_actor(camera_bp, camera_init_trans, attach_to=ego_vehicle)"
   ]
  },
  {
   "cell_type": "code",
   "execution_count": 22,
   "id": "5eb43314-70b1-42df-96fa-a54d0c6ade33",
   "metadata": {},
   "outputs": [],
   "source": [
    "camera.listen(lambda image: image.save_to_disk('out/%06d.png' % image.frame))"
   ]
  },
  {
   "cell_type": "code",
   "execution_count": null,
   "id": "db5c6a75-c79d-4829-b1d4-90e9f0a7cf85",
   "metadata": {},
   "outputs": [],
   "source": [
    "from timeit import default_timer\n",
    "init_time = default_timer()\n",
    "ego_vehicle.enable_autopilot()\n",
    "while(default_timer() - init_time < 15):\n",
    "    world.tick()"
   ]
  }
 ],
 "metadata": {
  "kernelspec": {
   "display_name": "Python 3 (ipykernel)",
   "language": "python",
   "name": "python3"
  },
  "language_info": {
   "codemirror_mode": {
    "name": "ipython",
    "version": 3
   },
   "file_extension": ".py",
   "mimetype": "text/x-python",
   "name": "python",
   "nbconvert_exporter": "python",
   "pygments_lexer": "ipython3",
   "version": "3.8.16"
  }
 },
 "nbformat": 4,
 "nbformat_minor": 5
}
