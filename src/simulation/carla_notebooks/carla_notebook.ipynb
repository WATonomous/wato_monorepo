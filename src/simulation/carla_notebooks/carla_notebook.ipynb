{
 "cells": [
  {
   "attachments": {},
   "cell_type": "markdown",
   "metadata": {},
   "source": [
    "# Setup Code\n",
    "**DO NOT CHANGE THIS!!**\n",
    "**RUN THE CELL BELOW FIRST!!**"
   ]
  },
  {
   "cell_type": "code",
   "execution_count": null,
   "metadata": {},
   "outputs": [],
   "source": [
    "import carla\n",
    "import os\n",
    "\n",
    "client_name = os.environ.get(\"CLIENT_NAME\", \"DOES NOT EXIST\")\n",
    "if client_name == \"DOES NOT EXIST\":\n",
    "    raise Exception(\"The environment variable for the container name of the carla server has not been set\")\n",
    "\n",
    "# Connect to the client and retrieve the world object\n",
    "client = carla.Client(client_name, 2000)\n",
    "world = client.get_world()"
   ]
  },
  {
   "attachments": {},
   "cell_type": "markdown",
   "metadata": {},
   "source": [
    "# Start Adding Code or Markdown Cells Below"
   ]
  }
 ],
 "metadata": {
  "language_info": {
   "name": "python"
  },
  "orig_nbformat": 4
 },
 "nbformat": 4,
 "nbformat_minor": 2
}
