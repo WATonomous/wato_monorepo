{
 "cells": [
  {
   "cell_type": "code",
   "execution_count": 1,
   "id": "1afdefb3",
   "metadata": {},
   "outputs": [
    {
     "name": "stdout",
     "output_type": "stream",
     "text": [
      "\u001b[33mWARNING: You are using pip version 22.0.4; however, version 23.2.1 is available.\r\n",
      "You should consider upgrading via the '/usr/local/bin/python -m pip install --upgrade pip' command.\u001b[0m\u001b[33m\r\n",
      "\u001b[0m"
     ]
    }
   ],
   "source": [
    "!pip install -q gym numpy gymnasium stable-baselines3"
   ]
  },
  {
   "cell_type": "code",
   "execution_count": 2,
   "id": "8a644cab",
   "metadata": {},
   "outputs": [],
   "source": [
    "import carla\n",
    "import os\n",
    "\n",
    "client_name = os.environ.get(\"CLIENT_NAME\", \"DOES NOT EXIST\")\n",
    "if client_name == \"DOES NOT EXIST\":\n",
    "    raise Exception(\"The environment variable for the container name of the carla server has not been set\")\n",
    "\n",
    "# Connect to the client and retrieve the world object\n",
    "client = carla.Client(client_name, 2000)\n",
    "world = client.get_world()"
   ]
  },
  {
   "cell_type": "code",
   "execution_count": 3,
   "id": "4e874414",
   "metadata": {},
   "outputs": [],
   "source": [
    "import gymnasium as gym\n",
    "import numpy as np\n",
    "from gymnasium import spaces\n",
    "from time import sleep\n",
    "\n",
    "class CarlaEnv(gym.Env):\n",
    "    \"\"\"\n",
    "    Custom Environment that follows gym interface.\n",
    "    This is a env to interface with CARLA simulator\n",
    "    \"\"\"\n",
    "\n",
    "    # Because of jupyter notebook, we cannot implement the GUI ('human' render mode)\n",
    "    metadata = {\"render_modes\": [\"console\"]}\n",
    "    \n",
    "    def camera_callback(self, image):\n",
    "        self.camera1_data = np.array(image.raw_data).reshape(600, 800, 4)[..., [2,1,0,3]].copy()\n",
    "    \n",
    "    def lane_callback(self, event):\n",
    "        self.crossed_lane = True\n",
    "\n",
    "    def __init__(self, render_mode=\"console\"):\n",
    "        super(CarlaEnv, self).__init__()\n",
    "        self.render_mode = render_mode\n",
    "        self.camera1_data = np.empty((600, 800, 4))\n",
    "        self.crossed_lane = False\n",
    "\n",
    "        # Define action and observation space\n",
    "        # They must be gym.spaces objects\n",
    "        # In this case it is buckets for throttle, steering and brake\n",
    "        n_actions = 230 + 11 - 1\n",
    "        self.action_space = spaces.Discrete(n_actions)\n",
    "        # The observation will be the RGB camera view (for now)\n",
    "        self.observation_space = spaces.Box(\n",
    "            low=0, high=255, shape=(600,800,4), dtype=np.uint8\n",
    "        )\n",
    "        \n",
    "        # Get camera listener working\n",
    "        cameras = []\n",
    "        lane_sensors = []\n",
    "        for actor in world.get_actors():\n",
    "            if(actor.type_id == 'sensor.camera.rgb'):\n",
    "                cameras.append(actor)\n",
    "            elif (actor.type_id == 'sensor.other.lane_invasion'):\n",
    "                lane_sensors.append(actor)\n",
    "        self.lane_sensor = lane_sensors[0]\n",
    "        self.lane_sensor.listen(self.lane_callback)\n",
    "        self.camera = cameras[0]\n",
    "        self.camera.listen(self.camera_callback)\n",
    "        vehicles = []\n",
    "        for actor in world.get_actors():\n",
    "            if(actor.type_id == 'vehicle.tesla.model3'):\n",
    "                vehicles.append(actor)\n",
    "        for vehicle in vehicles:\n",
    "            if(vehicle.attributes[\"role_name\"] == \"ego_vehicle\"):\n",
    "                self.ego_vehicle = vehicle\n",
    "\n",
    "    def reset(self, seed=None, options=None):\n",
    "        \"\"\"\n",
    "        Important: the observation must be a numpy array\n",
    "        :return: (np.array)\n",
    "        \"\"\"\n",
    "        super().reset(seed=seed, options=options)\n",
    "        # move vehicle to correct location\n",
    "        initLocation = carla.Location(x=-51.404804, y=-76.343437, z=0.053576)\n",
    "        \n",
    "        return self.camera1_data.astype(np.uint8), {}  # empty info dict\n",
    "\n",
    "    def step(self, action):\n",
    "        throttle = 0.0\n",
    "        steer = 0.0\n",
    "        brake = 0.0\n",
    "        if(action <= 230 - 1):\n",
    "            throttle = ((action - 11 - 1) // 21) / 10.0\n",
    "            steer = (((action - 11 - 1) // 11) / 10.0) - 1.0\n",
    "        else:\n",
    "            brake = (action - 230 - 1 - 1) / 10.0\n",
    "        vehicle_control_cmd = carla.VehicleControl(throttle, steer, brake)\n",
    "        self.ego_vehicle.apply_control(vehicle_control_cmd)\n",
    "        \n",
    "        \n",
    "        # Let the simulator respond\n",
    "        sleep(0.5)\n",
    "\n",
    "        # Optionally we can pass additional info, we are not using that for now\n",
    "        info = {}\n",
    "        truncated = False\n",
    "        reward = 2\n",
    "        terminated = self.crossed_lane\n",
    "        if(terminated):\n",
    "            self.camera.stop()\n",
    "            self.lane_sensor.stop()\n",
    "            reward = 0\n",
    "\n",
    "        return (\n",
    "            self.camera1_data.astype(np.uint8),\n",
    "            reward,\n",
    "            terminated,\n",
    "            truncated,\n",
    "            info,\n",
    "        )\n",
    "\n",
    "    def render(self):\n",
    "        # agent is represented as a cross, rest as a dot\n",
    "        if self.render_mode == \"console\":\n",
    "            print(\".\" * self.agent_pos, end=\"\")\n",
    "            print(\"x\", end=\"\")\n",
    "            print(\".\" * (self.grid_size - self.agent_pos))\n",
    "\n",
    "    def close(self):\n",
    "        pass"
   ]
  },
  {
   "cell_type": "code",
   "execution_count": 4,
   "id": "c07fabe5",
   "metadata": {},
   "outputs": [],
   "source": [
    "from stable_baselines3.common.env_checker import check_env"
   ]
  },
  {
   "cell_type": "code",
   "execution_count": 5,
   "id": "ac77e655",
   "metadata": {},
   "outputs": [],
   "source": [
    "env = CarlaEnv()\n",
    "# If the environment don't follow the interface, an error will be thrown\n",
    "check_env(env, warn=True)"
   ]
  },
  {
   "cell_type": "code",
   "execution_count": 6,
   "id": "a7b151b7",
   "metadata": {},
   "outputs": [],
   "source": [
    "from stable_baselines3 import DQN"
   ]
  },
  {
   "cell_type": "code",
   "execution_count": 8,
   "id": "3decd01d",
   "metadata": {},
   "outputs": [
    {
     "name": "stdout",
     "output_type": "stream",
     "text": [
      "Using cpu device\n",
      "Wrapping the env with a `Monitor` wrapper\n",
      "Wrapping the env in a DummyVecEnv.\n",
      "Wrapping the env in a VecTransposeImage.\n"
     ]
    }
   ],
   "source": [
    "model = DQN(\"MlpPolicy\", env, verbose=1, buffer_size=1000)"
   ]
  },
  {
   "cell_type": "code",
   "execution_count": null,
   "id": "7200b0d5",
   "metadata": {},
   "outputs": [],
   "source": []
  }
 ],
 "metadata": {
  "kernelspec": {
   "display_name": "Python 3 (ipykernel)",
   "language": "python",
   "name": "python3"
  },
  "language_info": {
   "codemirror_mode": {
    "name": "ipython",
    "version": 3
   },
   "file_extension": ".py",
   "mimetype": "text/x-python",
   "name": "python",
   "nbconvert_exporter": "python",
   "pygments_lexer": "ipython3",
   "version": "3.8.16"
  }
 },
 "nbformat": 4,
 "nbformat_minor": 5
}
