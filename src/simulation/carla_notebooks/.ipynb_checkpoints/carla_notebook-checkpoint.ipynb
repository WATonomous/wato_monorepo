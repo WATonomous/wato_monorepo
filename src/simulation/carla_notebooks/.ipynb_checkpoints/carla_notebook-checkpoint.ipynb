{
 "cells": [
  {
   "cell_type": "markdown",
   "metadata": {},
   "source": [
    "# Setup Code\n",
    "**DO NOT CHANGE THIS!!**\n",
    "**RUN THE CELL BELOW FIRST!!**"
   ]
  },
  {
   "cell_type": "code",
   "execution_count": null,
   "metadata": {},
   "outputs": [],
   "source": [
    "import carla\n",
    "import os\n",
    "\n",
    "client_name = os.environ.get(\"CLIENT_NAME\", \"DOES NOT EXIST\")\n",
    "if client_name == \"DOES NOT EXIST\":\n",
    "    raise Exception(\"The environment variable for the container name of the carla server has not been set\")\n",
    "\n",
    "# Connect to the client and retrieve the world object\n",
    "client = carla.Client(client_name, 2000)\n",
    "world = client.get_world()"
   ]
  },
  {
   "cell_type": "markdown",
   "metadata": {},
   "source": [
    "# Start Adding Code or Markdown Cells Below\n",
    "Some helpful code cells are provided below that you may choose to use"
   ]
  },
  {
   "cell_type": "code",
   "execution_count": null,
   "metadata": {},
   "outputs": [],
   "source": [
    "#### SPAWN VEHICLES ####\n",
    "\"\"\"\n",
    "# Get the blueprint library and filter for the vehicle blueprints\n",
    "vehicle_blueprints = world.get_blueprint_library().filter('*vehicle*')\n",
    "# Get the map's spawn points\n",
    "spawn_points = world.get_map().get_spawn_points()\n",
    "\n",
    "# Spawn 50 vehicles randomly distributed throughout the map \n",
    "# for each spawn point, we choose a random vehicle from the blueprint library\n",
    "for i in range(0,50):\n",
    "    world.try_spawn_actor(random.choice(vehicle_blueprints), random.choice(spawn_points)))\n",
    "\"\"\"\n",
    "#### SET ALL VEHICLES TO AUTOPILOT\n",
    "\"\"\"\n",
    "for vehicle in world.get_actors().filter('*vehicle*'):\n",
    "    vehicle.set_autopilot(True)\n",
    "\"\"\""
   ]
  }
 ],
 "metadata": {
  "kernelspec": {
   "display_name": "Python 3 (ipykernel)",
   "language": "python",
   "name": "python3"
  },
  "language_info": {
   "codemirror_mode": {
    "name": "ipython",
    "version": 3
   },
   "file_extension": ".py",
   "mimetype": "text/x-python",
   "name": "python",
   "nbconvert_exporter": "python",
   "pygments_lexer": "ipython3",
   "version": "3.8.16"
  }
 },
 "nbformat": 4,
 "nbformat_minor": 2
}
