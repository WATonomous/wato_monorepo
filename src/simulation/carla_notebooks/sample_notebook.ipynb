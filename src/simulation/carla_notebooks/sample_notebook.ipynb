{
  "cells" : [
    {
      "cell_type" : "markdown",
      "metadata" : {},
      "source" : [ "# Setup Code\n", "**DO NOT CHANGE THIS!**  \n", "**RUN THE CELL BELOW FIRST!**" ]
    },
    {
      "cell_type" : "code",
      "execution_count" : null,
      "metadata" : {},
      "outputs" : [],
      "source" : [
        "import carla\n",
        "import os\n",
        "\n",
        "client_name = os.environ.get(\"CLIENT_NAME\")\n",
        "if not client_name:\n",
        "    raise EnvironmentError(\"CLIENT_NAME env-var (Carla server container) not set\")\n",
        "\n",
        "client = carla.Client(client_name, 2000)\n",
        "world = client.get_world()"
      ]
    },
    {
      "cell_type" : "markdown",
      "metadata" : {},
      "source" : [
        "# Start Adding Code or Markdown Cells Below\n",
        "Some helpful code cells are provided below that you may choose to use."
      ]
    },
    {
      "cell_type" : "code",
      "execution_count" : null,
      "metadata" : {},
      "outputs" : [],
      "source" : [
        "# ---- SPAWN VEHICLES --------------------------------------------------\n",
        "\"\"\"\n",
        "vehicle_blueprints = world.get_blueprint_library().filter('*vehicle*')\n",
        "spawn_points       = world.get_map().get_spawn_points()\n",
        "\n",
        "for _ in range(50):\n",
        "    world.try_spawn_actor(\n",
        "        random.choice(vehicle_blueprints),\n",
        "        random.choice(spawn_points)\n",
        "    )\n",
        "\"\"\"\n",
        "# ---- SET ALL VEHICLES TO AUTOPILOT ----------------------------------\n",
        "for vehicle in world.get_actors().filter(\"*vehicle*\"):\n",
        "    vehicle.set_autopilot(True)"
      ]
    }
  ],
  "metadata" : {"language_info" : {"name" : "python"}, "orig_nbformat" : 4},
  "nbformat" : 4,
  "nbformat_minor" : 2
}
