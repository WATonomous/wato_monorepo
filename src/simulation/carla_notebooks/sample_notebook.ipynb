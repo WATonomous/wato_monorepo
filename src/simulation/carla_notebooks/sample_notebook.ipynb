{
 "cells": [
  {
   "attachments": {},
   "cell_type": "markdown",
   "metadata": {},
   "source": [
    "# Setup Code\n",
    "**DO NOT CHANGE THIS!!**\n",
    "**RUN THE CELL BELOW FIRST!!**"
   ]
  },
  {
   "cell_type": "code",
   "execution_count": null,
   "metadata": {},
   "outputs": [],
   "source": [
    "import carla\n",
    "import os\n",
    "\n",
    "client_name = os.environ.get(\"CLIENT_NAME\", \"DOES NOT EXIST\")\n",
    "if client_name == \"DOES NOT EXIST\":\n",
    "    raise Exception(\"The environment variable for the container name of the carla server has not been set\")\n",
    "\n",
    "# Connect to the client and retrieve the world object\n",
    "client = carla.Client(client_name, 2000)\n",
    "world = client.get_world()\n",
    "print(\"Got world\")"
   ]
  },
  {
   "cell_type": "code",
   "execution_count": null,
   "metadata": {},
   "outputs": [],
   "source": [
    "print(world)\n",
    "print(worl"
   ]
  },
  {
   "attachments": {},
   "cell_type": "markdown",
   "metadata": {},
   "source": [
    "# Start Adding Code or Markdown Cells Below\n",
    "Some helpful code cells are provided below that you may choose to use"
   ]
  },
  {
   "cell_type": "code",
   "execution_count": null,
   "metadata": {},
   "outputs": [],
   "source": [
    "#### SPAWN VEHICLES ####\n",
    "\"\"\"\n",
    "# Get the blueprint library and filter for the vehicle blueprints\n",
    "vehicle_blueprints = world.get_blueprint_library().filter('*vehicle*')\n",
    "# Get the map's spawn points\n",
    "spawn_points = world.get_map().get_spawn_points()\n",
    "\n",
    "# Spawn 50 vehicles randomly distributed throughout the map \n",
    "# for each spawn point, we choose a random vehicle from the blueprint library\n",
    "for i in range(0,50):\n",
    "    world.try_spawn_actor(random.choice(vehicle_blueprints), random.choice(spawn_points)))\n",
    "\"\"\"\n",
    "#### SET ALL VEHICLES TO AUTOPILOT\n",
    "\"\"\"\n",
    "for vehicle in world.get_actors().filter('*vehicle*'):\n",
    "    vehicle.set_autopilot(True)\n",
    "\"\"\""
   ]
  },
  {
   "cell_type": "code",
   "execution_count": null,
   "metadata": {},
   "outputs": [],
   "source": [
    "!pip install pillow"
   ]
  },
  {
   "cell_type": "code",
   "execution_count": null,
   "metadata": {},
   "outputs": [],
   "source": [
    "import carla\n",
    "import os\n",
    "from PIL import Image\n",
    "from io import BytesIO\n",
    "from IPython.display import display\n",
    "from IPython.display import HTML\n",
    "from IPython.display import Image as IPythonImage, display, clear_output\n",
    "import random\n",
    "import time\n",
    "import base64 \n",
    "\n",
    "# Use this to set a fixed size for images in the notebook display\n",
    "IMAGE_WIDTH = 640\n",
    "\n",
    "# Assuming client and world are already set up as per your provided code\n",
    "\n",
    "# Get the world and blueprint library\n",
    "world = client.get_world()\n",
    "blueprint_library = world.get_blueprint_library()\n",
    "\n",
    "# Find the Tesla Model 3 blueprint\n",
    "tesla_model_3_bp = blueprint_library.find('vehicle.tesla.model3')\n",
    "\n",
    "# Choose a spawn point\n",
    "spawn_point = random.choice(world.get_map().get_spawn_points())\n",
    "\n",
    "# Spawn the Tesla\n",
    "tesla_model_3 = world.spawn_actor(tesla_model_3_bp, spawn_point)\n",
    "\n",
    "# Enable autopilot\n",
    "tesla_model_3.set_autopilot(True)\n",
    "\n",
    "# Add a camera sensor to the Tesla\n",
    "camera_bp = blueprint_library.find('sensor.camera.rgb')\n",
    "camera_transform = carla.Transform(carla.Location(x=1.5, z=2.4))\n",
    "camera = world.spawn_actor(camera_bp, camera_transform, attach_to=tesla_model_3)\n",
    "\n",
    "# Add a LiDAR sensor to the Tesla\n",
    "lidar_bp = blueprint_library.find('sensor.lidar.ray_cast')\n",
    "lidar_transform = carla.Transform(carla.Location(x=0, z=2.5))\n",
    "lidar = world.spawn_actor(lidar_bp, lidar_transform, attach_to=tesla_model_3)\n",
    "\n",
    "# Function to convert CARLA image to a base64 string\n",
    "def img_to_base64_str(image):\n",
    "    image_pil = carla_image_to_pil(image)\n",
    "    buffered = BytesIO()\n",
    "    image_pil.save(buffered, format=\"JPEG\")\n",
    "    return base64.b64encode(buffered.getvalue()).decode(\"ascii\")\n",
    "\n",
    "\n",
    "# Function to convert CARLA image to PIL Image\n",
    "def carla_image_to_pil(image):\n",
    "    image.convert(carla.ColorConverter.Raw)\n",
    "    image_bytes = bytes(image.raw_data)\n",
    "    image_pil = Image.frombytes(\"RGBA\", (image.width, image.height), image_bytes, \"raw\", \"BGRA\")\n",
    "    return image_pil.convert(\"RGB\")  # Convert to RGB\n",
    "\n",
    "\n",
    "# Function to process camera images\n",
    "def process_image(image):\n",
    "    image_pil = carla_image_to_pil(imge)\n",
    "    # Display the image\n",
    "    display(image_pil)\n",
    "\n",
    "# Listen to the camera's image capture event\n",
    "camera.listen(lambda image: process_image(image))\n"
   ]
  },
  {
   "cell_type": "code",
   "execution_count": null,
   "metadata": {},
   "outputs": [],
   "source": []
  }
 ],
 "metadata": {
  "kernelspec": {
   "display_name": "Python 3 (ipykernel)",
   "language": "python",
   "name": "python3"
  },
  "language_info": {
   "codemirror_mode": {
    "name": "ipython",
    "version": 3
   },
   "file_extension": ".py",
   "mimetype": "text/x-python",
   "name": "python",
   "nbconvert_exporter": "python",
   "pygments_lexer": "ipython3",
   "version": "3.8.16"
  }
 },
 "nbformat": 4,
 "nbformat_minor": 4
}
