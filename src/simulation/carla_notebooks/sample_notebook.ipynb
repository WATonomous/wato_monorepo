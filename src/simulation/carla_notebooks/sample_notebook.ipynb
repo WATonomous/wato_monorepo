{
 "cells": [
  {
   "attachments": {},
   "cell_type": "markdown",
   "metadata": {},
   "source": [
    "# Setup Code\n",
    "**DO NOT CHANGE THIS!!**\n",
    "**RUN THE CELL BELOW FIRST!!**"
   ]
  },
  {
   "cell_type": "code",
   "execution_count": 8,
   "metadata": {},
   "outputs": [],
   "source": [
    "import carla\n",
    "import random\n",
    "import os\n",
    "import time\n",
    "\n",
    "client_name = os.environ.get(\"CLIENT_NAME\", \"DOES NOT EXIST\")\n",
    "if client_name == \"DOES NOT EXIST\":\n",
    "    raise Exception(\"The environment variable for the container name of the carla server has not been set\")\n",
    "\n",
    "# Connect to the client and retrieve the world object\n",
    "client = carla.Client(client_name, 2000)\n",
    "world = client.get_world()\n",
    "\n",
    "# Constants\n",
    "NPC_VEHICLE_COUNT = 3\n",
    "SIM_TIME = 60"
   ]
  },
  {
   "attachments": {},
   "cell_type": "markdown",
   "metadata": {},
   "source": [
    "# Start Adding Code or Markdown Cells Below\n",
    "Some helpful code cells are provided below that you may choose to use"
   ]
  },
  {
   "cell_type": "code",
   "execution_count": 9,
   "metadata": {},
   "outputs": [
    {
     "data": {
      "text/plain": [
       "\"\\nfor vehicle in world.get_actors().filter('*vehicle*'):\\n    vehicle.set_autopilot(True)\\n\""
      ]
     },
     "execution_count": 9,
     "metadata": {},
     "output_type": "execute_result"
    }
   ],
   "source": [
    "#### SPAWN VEHICLES ####\n",
    "\"\"\"\n",
    "# Get the blueprint library and filter for the vehicle blueprints\n",
    "vehicle_blueprints = world.get_blueprint_library().filter('*vehicle*')\n",
    "# Get the map's spawn points\n",
    "spawn_points = world.get_map().get_spawn_points()\n",
    "\n",
    "# Spawn 50 vehicles randomly distributed throughout the map \n",
    "# for each spawn point, we choose a random vehicle from the blueprint library\n",
    "for i in range(0,50):\n",
    "    world.try_spawn_actor(random.choice(vehicle_blueprints), random.choice(spawn_points)))\n",
    "\"\"\"\n",
    "#### SET ALL VEHICLES TO AUTOPILOT\n",
    "\"\"\"\n",
    "for vehicle in world.get_actors().filter('*vehicle*'):\n",
    "    vehicle.set_autopilot(True)\n",
    "\"\"\"\n",
    "\n",
    "def save_image(image, image_type=\"RGB\"):\n",
    "    \"\"\"Save the image to disk.\"\"\"\n",
    "    image_name = f\"{image.frame}_{image_type}.png\"\n",
    "    image.save_to_disk(os.path.join('output', image_name))\n",
    "\n",
    "\n",
    "# Choose a spawn point\n",
    "spawn_point = random.choice(world.get_map().get_spawn_points())\n",
    "\n",
    "# Find and spawn a vehicle\n",
    "vehicle_bp = random.choice(world.get_blueprint_library().filter('vehicle'))\n",
    "ego_vehicle = world.spawn_actor(vehicle_bp, spawn_point)\n",
    "\n",
    "# Find the blueprint for a camera sensor and configure it\n",
    "camera_bp = world.get_blueprint_library().find('sensor.camera.rgb')\n",
    "camera_bp.set_attribute('image_size_x', '800')\n",
    "camera_bp.set_attribute('image_size_y', '600')\n",
    "camera_bp.set_attribute('fov', '90')\n",
    "\n",
    "# Attach the camera to the vehicle\n",
    "camera_transform = carla.Transform(carla.Location(x=1.5, z=2.4))  # Adjust as needed for top-of-car view\n",
    "camera = world.spawn_actor(camera_bp, camera_transform, attach_to=ego_vehicle)\n",
    "\n",
    "# Set up the camera to save images to disk\n",
    "camera.listen(lambda image: save_image(image, \"RGB\"))\n",
    "\n",
    "# Spawn NPC vehicles\n",
    "npc_vehicles = []\n",
    "for _ in range(NPC_VEHICLE_COUNT):\n",
    "    spawn_point = random.choice(world.get_map().get_spawn_points())\n",
    "    vehicle_bp = random.choice(world.get_blueprint_library().filter('vehicle'))\n",
    "    npc_vehicle = world.try_spawn_actor(vehicle_bp, spawn_point)\n",
    "\n",
    "    if npc_vehicle is not None:\n",
    "        npc_vehicles.append(npc_vehicle)\n",
    "\n",
    "# Set all vehicles in world to autopilot\n",
    "for vehicle in world.get_actors().filter('*vehicle*'):\n",
    "    vehicle.set_autopilot(True)\n",
    "\n",
    "# Simulate delay\n",
    "time.sleep(SIM_TIME)\n",
    "\n",
    "# Clean up: stop recording and destroy actors\n",
    "camera.stop()\n",
    "camera.destroy()\n",
    "ego_vehicle.destroy()\n",
    "\n",
    "for npc_vehicle in npc_vehicles:\n",
    "    npc_vehicle.destroy()\n",
    "\n",
    "print(\"Simulation Complete.\")\n"
   ]
  },
  {
   "cell_type": "code",
   "execution_count": null,
   "metadata": {},
   "outputs": [],
   "source": []
  }
 ],
 "metadata": {
  "kernelspec": {
   "display_name": "Python 3 (ipykernel)",
   "language": "python",
   "name": "python3"
  },
  "language_info": {
   "codemirror_mode": {
    "name": "ipython",
    "version": 3
   },
   "file_extension": ".py",
   "mimetype": "text/x-python",
   "name": "python",
   "nbconvert_exporter": "python",
   "pygments_lexer": "ipython3",
   "version": "3.8.16"
  }
 },
 "nbformat": 4,
 "nbformat_minor": 4
}
