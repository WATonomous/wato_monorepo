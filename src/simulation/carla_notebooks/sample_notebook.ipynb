{
 "cells": [
  {
   "attachments": {},
   "cell_type": "markdown",
   "metadata": {},
   "source": [
    "# Setup Code\n",
    "**DO NOT CHANGE THIS!!**\n",
    "**RUN THE CELL BELOW FIRST!!**"
   ]
  },
  {
   "cell_type": "code",
   "execution_count": 1,
   "metadata": {},
   "outputs": [],
   "source": [
    "import carla\n",
    "import os\n",
    "\n",
    "client_name = os.environ.get(\"CLIENT_NAME\", \"DOES NOT EXIST\")\n",
    "if client_name == \"DOES NOT EXIST\":\n",
    "    raise Exception(\"The environment variable for the container name of the carla server has not been set\")\n",
    "\n",
    "# Connect to the client and retrieve the world object\n",
    "client = carla.Client(client_name, 2000)\n",
    "world = client.get_world()"
   ]
  },
  {
   "attachments": {},
   "cell_type": "markdown",
   "metadata": {},
   "source": [
    "# Start Adding Code or Markdown Cells Below\n",
    "Some helpful code cells are provided below that you may choose to use"
   ]
  },
  {
   "cell_type": "code",
   "execution_count": 2,
   "metadata": {},
   "outputs": [
    {
     "name": "stdout",
     "output_type": "stream",
     "text": [
      "light Actor(id=23, type=traffic.traffic_light)\n",
      "min:  (-9.948899030685425, 37.71756821870804, 0.056954264640808105) , max:  (-4.113375902175903, 39.180945575237274, 1.943045735359192) , state:  Red\n",
      "light Actor(id=22, type=traffic.traffic_light)\n",
      "min:  (-11.15650749206543, 39.80343687534332, 0.05695605278015137) , max:  (-4.591544151306152, 40.75432527065277, 1.9430475234985352) , state:  Green\n",
      "light Actor(id=21, type=traffic.traffic_light)\n",
      "min:  (-11.693170070648193, 37.26614058017731, -0.3242630958557129) , max:  (-5.128206729888916, 38.217028975486755, 1.561828374862671) , state:  Red\n",
      "light Actor(id=20, type=traffic.traffic_light)\n",
      "min:  (-10.75691270828247, 26.436808586120605, 0.05695486068725586) , max:  (-4.191949367523193, 27.618741035461426, 1.9430463314056396) , state:  Green\n",
      "light Actor(id=19, type=traffic.traffic_light)\n",
      "min:  (-11.058073043823242, 6.813437461853027, 0.05694693326950073) , max:  (-4.493109703063965, 11.567879676818848, 1.9430384039878845) , state:  Green\n",
      "light Actor(id=18, type=traffic.traffic_light)\n",
      "min:  (-13.978992938995361, 29.02956074476242, 0.05695486068725586) , max:  (-7.414029598236084, 30.44237071275711, 1.9430463314056396) , state:  Red\n",
      "light Actor(id=17, type=traffic.traffic_light)\n",
      "min:  (-15.158087253570557, 27.249655455350876, 0.05695301294326782) , max:  (-8.59312391281128, 28.238049775362015, 1.9430444836616516) , state:  Green\n",
      "light Actor(id=16, type=traffic.traffic_light)\n",
      "min:  (-10.873431205749512, 39.82102286815643, 0.05699455738067627) , max:  (-4.308467864990234, 40.880446553230286, 1.94308602809906) , state:  Red\n",
      "light Actor(id=15, type=traffic.traffic_light)\n",
      "min:  (-14.520601034164429, 27.51043599843979, 0.05695915222167969) , max:  (-8.685077905654907, 28.443646490573883, 1.9430506229400635) , state:  Red\n",
      "light Actor(id=14, type=traffic.traffic_light)\n",
      "min:  (-14.079913854598999, 29.30974516272545, 0.05695605278015137) , max:  (-8.244390726089478, 30.14033952355385, 1.9430475234985352) , state:  Red\n",
      "light Actor(id=13, type=traffic.traffic_light)\n",
      "min:  (-9.308176279067993, 26.76480260491371, 0.056953608989715576) , max:  (-3.4726531505584717, 27.73884043097496, 1.9430450797080994) , state:  Green\n",
      "light Actor(id=12, type=traffic.traffic_light)\n",
      "min:  (-11.948214292526245, 6.171285629272461, 0.05694693326950073) , max:  (-6.112691164016724, 10.925727844238281, 1.9430384039878845) , state:  Red\n",
      "light Actor(id=11, type=traffic.traffic_light)\n",
      "min:  (-9.48880648612976, 18.300621032714844, 0.056951165199279785) , max:  (-3.6532833576202393, 22.817340850830078, 1.9430426359176636) , state:  Red\n",
      "light Actor(id=10, type=traffic.traffic_light)\n",
      "min:  (-10.982866048812866, 37.21749651432037, 0.056960344314575195) , max:  (-5.147342920303345, 38.32494580745697, 1.943051815032959) , state:  Red\n",
      "light Actor(id=9, type=traffic.traffic_light)\n",
      "min:  (-12.769443988800049, 35.28306466341019, 0.056960344314575195) , max:  (-6.2044806480407715, 36.510773837566376, 1.943051815032959) , state:  Red\n"
     ]
    }
   ],
   "source": [
    "#### SPAWN VEHICLES ####\n",
    "\"\"\"\n",
    "# Get the blueprint library and filter for the vehicle blueprints\n",
    "vehicle_blueprints = world.get_blueprint_library().filter('*vehicle*')\n",
    "# Get the map's spawn points\n",
    "spawn_points = world.get_map().get_spawn_points()\n",
    "\n",
    "# Spawn 50 vehicles randomly distributed throughout the map \n",
    "# for each spawn point, we choose a random vehicle from the blueprint library\n",
    "for i in range(0,50):\n",
    "    world.try_spawn_actor(random.choice(vehicle_blueprints), random.choice(spawn_points)))\n",
    "\"\"\"\n",
    "#### SET ALL VEHICLES TO AUTOPILOT\n",
    "# for vehicle in world.get_actors().filter('*vehicle*'):\n",
    "#     print(\"found car\")\n",
    "#     vehicle.set_autopilot(True)\n",
    "\n",
    "for light in world.get_actors().filter('*traffic_light*'):\n",
    "    \n",
    "    print(\"light\", light)\n",
    "\n",
    "    boundingBox = light.bounding_box\n",
    "    min_x = boundingBox.location.x - boundingBox.extent.x\n",
    "    min_y = boundingBox.location.y - boundingBox.extent.y\n",
    "    min_z = boundingBox.location.z - boundingBox.extent.z\n",
    "    \n",
    "    max_x = boundingBox.location.x + boundingBox.extent.x\n",
    "    max_y = boundingBox.location.y + boundingBox.extent.y\n",
    "    max_z = boundingBox.location.z + boundingBox.extent.z\n",
    "    \n",
    "    state = light.get_state()\n",
    "    print(\"min: \", (min_x, min_y, min_z), \", max: \", (max_x, max_y, max_z), \", state: \", state)"
   ]
  },
  {
   "cell_type": "code",
   "execution_count": null,
   "metadata": {},
   "outputs": [],
   "source": []
  }
 ],
 "metadata": {
  "kernelspec": {
   "display_name": "Python 3 (ipykernel)",
   "language": "python",
   "name": "python3"
  },
  "language_info": {
   "codemirror_mode": {
    "name": "ipython",
    "version": 3
   },
   "file_extension": ".py",
   "mimetype": "text/x-python",
   "name": "python",
   "nbconvert_exporter": "python",
   "pygments_lexer": "ipython3",
   "version": "3.8.16"
  }
 },
 "nbformat": 4,
 "nbformat_minor": 4
}
