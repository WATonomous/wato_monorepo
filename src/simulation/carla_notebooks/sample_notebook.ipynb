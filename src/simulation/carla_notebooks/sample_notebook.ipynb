{
 "cells": [
  {
   "attachments": {},
   "cell_type": "markdown",
   "metadata": {},
   "source": [
    "# Setup Code\n",
    "**DO NOT CHANGE THIS!!**\n",
    "**RUN THE CELL BELOW FIRST!!**"
   ]
  },
  {
   "cell_type": "code",
   "execution_count": null,
   "metadata": {},
   "outputs": [],
   "source": [
    "import carla\n",
    "import os\n",
    "\n",
    "client_name = os.environ.get(\"CLIENT_NAME\", \"DOES NOT EXIST\")\n",
    "if client_name == \"DOES NOT EXIST\":\n",
    "    raise Exception(\"The environment variable for the container name of the carla server has not been set\")\n",
    "\n",
    "# Connect to the client and retrieve the world object\n",
    "client = carla.Client(client_name, 2000)\n",
    "world = client.get_world()"
   ]
  },
  {
   "attachments": {},
   "cell_type": "markdown",
   "metadata": {},
   "source": [
    "# Start Adding Code or Markdown Cells Below\n",
    "Some helpful code cells are provided below that you may choose to use"
   ]
  },
  {
   "cell_type": "code",
   "execution_count": null,
   "metadata": {},
   "outputs": [],
   "source": [
    "#### SPAWN VEHICLES ####\n",
    "\"\"\"\n",
    "# Get the blueprint library and filter for the vehicle blueprints\n",
    "vehicle_blueprints = world.get_blueprint_library().filter('*vehicle*')\n",
    "# Get the map's spawn points\n",
    "spawn_points = world.get_map().get_spawn_points()\n",
    "\n",
    "# Spawn 50 vehicles randomly distributed throughout the map \n",
    "# for each spawn point, we choose a random vehicle from the blueprint library\n",
    "for i in range(0,50):\n",
    "    world.try_spawn_actor(random.choice(vehicle_blueprints), random.choice(spawn_points)))\n",
    "\"\"\"\n",
    "#### SET ALL VEHICLES TO AUTOPILOT\n",
    "\"\"\"\n",
    "for vehicle in world.get_actors().filter('*vehicle*'):\n",
    "    vehicle.set_autopilot(True)\n",
    "\"\"\"\n",
    "\n",
    "for light in world.get_actors().filter('*TrafficLight*'):\n",
    "\n",
    "    boundingBox = light.get_light_boxes()\n",
    "    min_x = boundingBox.location.x - boundingBox.extent.x\n",
    "    min_y = boundingBox.location.y - boundingBox.extent.y\n",
    "    min_z = boundingBox.location.z - boundingBox.extent.z\n",
    "    \n",
    "    max_x = boundingBox.location.x + boundingBox.extent.x\n",
    "    max_y = boundingBox.location.y + boundingBox.extent.y\n",
    "    max_z = boundingBox.location.z + boundingBox.extent.z\n",
    "    \n",
    "    state = light.get_state()\n",
    "    print(\"min: \", (min_x, min_y, min_z), \", max: \", (max_x, max_y, max_z), \", state: \", state)"
   ]
  }
 ],
 "metadata": {
  "language_info": {
   "name": "python"
  },
  "orig_nbformat": 4
 },
 "nbformat": 4,
 "nbformat_minor": 2
}
